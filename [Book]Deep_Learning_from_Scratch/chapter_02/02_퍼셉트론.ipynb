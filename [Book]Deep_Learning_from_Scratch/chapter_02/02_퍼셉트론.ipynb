{
 "cells": [
  {
   "cell_type": "markdown",
   "metadata": {
    "id": "pFkivSla58UI"
   },
   "source": [
    "# 2장. 퍼셉트론  "
   ]
  },
  {
   "cell_type": "markdown",
   "metadata": {
    "id": "ZYC1ZJACK_6X"
   },
   "source": [
    "<br><br>\n",
    "\n",
    "---\n",
    "\n",
    "## 2.3 퍼셉트론 구현하기  "
   ]
  },
  {
   "cell_type": "markdown",
   "metadata": {
    "id": "ymx358QxLCKh"
   },
   "source": [
    "### 2.3.1 간단한 구현부터  "
   ]
  },
  {
   "cell_type": "code",
   "execution_count": null,
   "metadata": {
    "id": "WUMY_6pv52br"
   },
   "outputs": [],
   "source": [
    "def AND(x1, x2):\n",
    "    # AND라는 함수를 만들고 매개변수로 x1, x2를 지정해줬다. 이 x1과 x2는 뉴런 입력값이다.\n",
    "\n",
    "    w1, w2, theta = 0.5, 0.5, 0.7\n",
    "    # unpacking???\n",
    "    # w = 가중치 / theta = 임계값\n",
    "\n",
    "    tmp = x1 * w1 + x2 * w2  # 입력값에 가중치를 곱한 값들을 모두 더해준다.\n",
    "\n",
    "    if (\n",
    "        tmp <= theta\n",
    "    ):  # 입력값에 가중치가 곱해진 모든 값들을 더한 값이 theta(임계값)보다 작거나 같다면\n",
    "        return 0  # 0을 return 하고\n",
    "    elif tmp > theta:  # theta(임계값)보다 크면\n",
    "        return 1  # 1을 return 합니다."
   ]
  },
  {
   "cell_type": "markdown",
   "metadata": {
    "id": "oyrXmwnB9GVJ"
   },
   "source": [
    "AND 게이트 테스트  "
   ]
  },
  {
   "cell_type": "code",
   "execution_count": null,
   "metadata": {
    "colab": {
     "base_uri": "https://localhost:8080/"
    },
    "id": "JGUVe6M46LGs",
    "outputId": "47593466-51d2-4e27-ec9a-1ed0b2e8d6cb"
   },
   "outputs": [
    {
     "data": {
      "text/plain": [
       "0"
      ]
     },
     "execution_count": 2,
     "metadata": {},
     "output_type": "execute_result"
    }
   ],
   "source": [
    "AND(0, 0)  # 0을 출력\n",
    "\n",
    "# 0 * 0.5 = 0   입력값과 가중치를 곱한다.\n",
    "# 0 * 0.5 = 0   입력값과 가중치를 곱한다.\n",
    "# 0 + 0 = 0     입력값과 가중치를 곱한 값들을 모두 더해준다. 결과 나옴.\n",
    "# 0이 임계값 0.7보다 작으므로 0을 반환함."
   ]
  },
  {
   "cell_type": "code",
   "execution_count": null,
   "metadata": {
    "colab": {
     "base_uri": "https://localhost:8080/"
    },
    "id": "lyoNh8056sHD",
    "outputId": "e7408085-94cf-4f2b-9a9c-11bd22e60c23"
   },
   "outputs": [
    {
     "data": {
      "text/plain": [
       "0"
      ]
     },
     "execution_count": 3,
     "metadata": {},
     "output_type": "execute_result"
    }
   ],
   "source": [
    "AND(1, 0)  # 0을 출력\n",
    "\n",
    "# 1 * 0.5 = 0.5     입력값과 가중치를 곱한다.\n",
    "# 0 * 0.5 = 0       입력값과 가중치를 곱한다.\n",
    "# 0.5 + 0 = 0.5     입력값과 가중치를 곱한 값들을 모두 더해준다. 결과 나옴.\n",
    "# 0.5가 임계값 0.7보다 작으므로 0을 반환함."
   ]
  },
  {
   "cell_type": "code",
   "execution_count": null,
   "metadata": {
    "colab": {
     "base_uri": "https://localhost:8080/"
    },
    "id": "AOxi7xPW6t10",
    "outputId": "c6081ec2-19b1-45cb-fcc8-b221d6de1322"
   },
   "outputs": [
    {
     "data": {
      "text/plain": [
       "0"
      ]
     },
     "execution_count": 4,
     "metadata": {},
     "output_type": "execute_result"
    }
   ],
   "source": [
    "AND(0, 1)  # 0을 출력\n",
    "\n",
    "# 0 * 0.5 = 0     입력값과 가중치를 곱한다.\n",
    "# 1 * 0.5 = 0.5   입력값과 가중치를 곱한다.\n",
    "# 0 + 0.5 = 0.5   입력값과 가중치를 곱한 값들을 모두 더해준다. 결과 나옴.\n",
    "# 0.5가 임계값 0.7보다 작으므로 0을 반환함."
   ]
  },
  {
   "cell_type": "code",
   "execution_count": null,
   "metadata": {
    "colab": {
     "base_uri": "https://localhost:8080/"
    },
    "id": "zZbFsfSW6vH_",
    "outputId": "1f7ee713-edfa-4c1a-ff9d-f55f08e95db9"
   },
   "outputs": [
    {
     "data": {
      "text/plain": [
       "1"
      ]
     },
     "execution_count": 5,
     "metadata": {},
     "output_type": "execute_result"
    }
   ],
   "source": [
    "AND(1, 1)  # 1을 출력\n",
    "\n",
    "# 1 * 0.5 = 0.5   입력값과 가중치를 곱한다.\n",
    "# 1 * 0.5 = 0.5   입력값과 가중치를 곱한다.\n",
    "# 0.5 + 0.5 = 1     입가값과 가고치를 곱한 값들을 모두 더해준다. 결과 나옴.\n",
    "# 1이 임계값 0.7보다 크므로 1을 반환함."
   ]
  },
  {
   "cell_type": "markdown",
   "metadata": {
    "id": "LsaTT0-ILK0f"
   },
   "source": [
    "<br>\n",
    "\n",
    "### 2.3.2 가중치와 편향 도입  \n",
    "- 임계값 세타를 편향(bias)(-b)으로 치환  "
   ]
  },
  {
   "cell_type": "code",
   "execution_count": null,
   "metadata": {
    "colab": {
     "base_uri": "https://localhost:8080/"
    },
    "id": "7d5lY1UALNmi",
    "outputId": "37585265-a138-4f3c-9119-46c54c6221fc"
   },
   "outputs": [
    {
     "data": {
      "text/plain": [
       "array([0. , 0.5])"
      ]
     },
     "execution_count": 6,
     "metadata": {},
     "output_type": "execute_result"
    }
   ],
   "source": [
    "import numpy as np\n",
    "\n",
    "x = np.array([0, 1])  # 입력값 (x1, x2)\n",
    "w = np.array([0.5, 0.5])  # 가중치 (w1, w2)\n",
    "b = -0.7  # 편향 (임계값 세타에 편향으로 치환)\n",
    "\n",
    "w * x  # 가중치와 입력값을 곱한다."
   ]
  },
  {
   "cell_type": "code",
   "execution_count": null,
   "metadata": {
    "colab": {
     "base_uri": "https://localhost:8080/"
    },
    "id": "fzWeNP7yLaqH",
    "outputId": "9bb3d3f7-efc1-4e47-c5c6-3be3093ae536"
   },
   "outputs": [
    {
     "data": {
      "text/plain": [
       "0.5"
      ]
     },
     "execution_count": 7,
     "metadata": {},
     "output_type": "execute_result"
    }
   ],
   "source": [
    "np.sum(w * x)  # 모두 곱하고 곱한 값들을 모두 더한다."
   ]
  },
  {
   "cell_type": "code",
   "execution_count": null,
   "metadata": {
    "colab": {
     "base_uri": "https://localhost:8080/"
    },
    "id": "lq4sUiHGLdvE",
    "outputId": "939fd9da-bb76-4469-fd73-9bfd85d38145"
   },
   "outputs": [
    {
     "data": {
      "text/plain": [
       "-0.19999999999999996"
      ]
     },
     "execution_count": 8,
     "metadata": {},
     "output_type": "execute_result"
    }
   ],
   "source": [
    "np.sum(w * x) + b  # 모두 곱하고, 모두 더한 값에서 편향을 더한다."
   ]
  },
  {
   "cell_type": "markdown",
   "metadata": {
    "id": "faBYKkBpLhyL"
   },
   "source": [
    "### 2.3.3 가중치와 편향 구현하기  "
   ]
  },
  {
   "cell_type": "markdown",
   "metadata": {
    "id": "jTpo5_jt8yVD"
   },
   "source": [
    "***ch02/and_gate.py***  "
   ]
  },
  {
   "cell_type": "code",
   "execution_count": null,
   "metadata": {
    "id": "FeA-3jRm63TX"
   },
   "outputs": [],
   "source": [
    "import numpy as np  # numpy 사용을 위한 import\n",
    "\n",
    "# 편향을 사용하여 AND, NAND, OR 논리게이트를 코드로 구현한다.\n",
    "\n",
    "\n",
    "def AND(x1, x2):  # AND 논리게이트 함수 x1, x2라는 매개변수를 만든다.\n",
    "    x = np.array([x1, x2])  # 입력값에 대한 넘파이 배열\n",
    "    w = np.array([0.5, 0.5])  # 가중치에 대한 넘파이 배열\n",
    "    b = -0.7  # 편향\n",
    "\n",
    "    tmp = np.sum(w * x) + b\n",
    "    # 입력값 넘파이 배열과 가중치 넘파이 배열을 인덱스에 맞게 곱한 값을 넘파이 배열로 반환하고 그 값들을 모두 더한다.\n",
    "    # 이 값에 편향을 더한다.\n",
    "\n",
    "    if tmp <= 0:  # tmp 값이 0보다 작거나 같다면\n",
    "        return 0  # 0을 return 하고\n",
    "    else:  # 이 외 0보다 크다면\n",
    "        return 1  # 1을 return 합니다."
   ]
  },
  {
   "cell_type": "markdown",
   "metadata": {
    "id": "7u-KSgKV819P"
   },
   "source": [
    "***ch02/nand_gate.py***  "
   ]
  },
  {
   "cell_type": "code",
   "execution_count": null,
   "metadata": {
    "id": "WJvzgmnR66sC"
   },
   "outputs": [],
   "source": [
    "def NAND(x1, x2):  # NAND 논리게이트 함수 x1, x2라는 매개변수를 만든다.\n",
    "    x = np.array([x1, x2])  # 입력값에 대한 넘파이 배열\n",
    "    w = np.array([-0.5, -0.5])  # 가중치에 대한 넘파이 배열\n",
    "    b = 0.7  # 편향\n",
    "\n",
    "    tmp = np.sum(w * x) + b\n",
    "    # 입력값 넘파이 배열과 가중치 넘파이 배열을 인덱스에 맞게 곱한 값을 넘파이 배열로 반환하고 그 값들을 모두 더한다.\n",
    "    # 이 값에 편향을 더한다.\n",
    "\n",
    "    if tmp <= 0:  # tmp 값이 0보다 작거나 같다면\n",
    "        return 0  # 0을 return 하고\n",
    "    else:  # 이 외 0보다 크다면\n",
    "        return 1  # 1을 return 합니다."
   ]
  },
  {
   "cell_type": "markdown",
   "metadata": {
    "id": "7jKXERWc84ol"
   },
   "source": [
    "***ch02/or_gate.py***  "
   ]
  },
  {
   "cell_type": "code",
   "execution_count": null,
   "metadata": {
    "id": "BsWYsT9L69WV"
   },
   "outputs": [],
   "source": [
    "def OR(x1, x2):  # OR 논리게이트 함수 x1, x2라는 매개변수를 만든다.\n",
    "    x = np.array([x1, x2])  # 입력값\n",
    "    w = np.array([0.5, 0.5])  # 가중치\n",
    "    b = -0.2  # 편향\n",
    "\n",
    "    tmp = np.sum(w * x) + b\n",
    "    # 입력값 넘파이 배열과 가중치 넘파이 배열을 인덱스에 맞게 곱한 값을 넘파이 배열로 반환하고 그 값들을 모두 더한다.\n",
    "    # 이 값에 편향을 더한다.\n",
    "\n",
    "    if tmp <= 0:  # tmp 값이 0보다 작거나 같다면\n",
    "        return 0  # 0을 return 하고\n",
    "    else:  # 이 외 0보다 크다면\n",
    "        return 1  # 1을 return 합니다."
   ]
  },
  {
   "cell_type": "markdown",
   "metadata": {},
   "source": [
    "<br><br>\n",
    "\n",
    "---\n",
    "\n",
    "## 2.4 퍼셉트론의 한계  \n",
    "\n",
    "- XOR 논리게이트는 퍼셉트론으로 구현할 수 없다.  \n",
    "- XOR 논리게이트를 좌표로 보았을 때, 직선 하나로 나누는 것이 불가능합니다.  \n",
    "- 하지만 직선이라는 제약을 없앤다면 가능하다. 바로 곡선영역으로 나누는 것입니다.  \n",
    "- 곡선의 영역을 `비선형 영역`, 지선의 영역을 `선형 영역`이라고 한다.  "
   ]
  },
  {
   "cell_type": "markdown",
   "metadata": {
    "id": "GMScCJT4Lphv"
   },
   "source": [
    "<br><br>\n",
    "\n",
    "---\n",
    "\n",
    "## 2.5 다층 퍼셉트론이 출동한다면  "
   ]
  },
  {
   "cell_type": "markdown",
   "metadata": {
    "id": "H-QIbOBVLr1E"
   },
   "source": [
    "### 2.5.2 XOR 게이트 구현하기  \n",
    "\n"
   ]
  },
  {
   "cell_type": "markdown",
   "metadata": {
    "id": "_msddiG98-ye"
   },
   "source": [
    "***ch03/xor_gate.py***  "
   ]
  },
  {
   "cell_type": "code",
   "execution_count": null,
   "metadata": {
    "id": "QKNW5cD46_CR"
   },
   "outputs": [],
   "source": [
    "# 2층 퍼셉트론 구조를 통해서 XOR 논리게이트를 구현합니다.\n",
    "\n",
    "\n",
    "def XOR(x1, x2):  # XOR 함수 / x1, x2라는 입력값 매개변수 존재\n",
    "\n",
    "    s1 = NAND(x1, x2)\n",
    "    # 1. 먼저 NAND 논리게이트 함수에 입력값 인수들을 넣어서 결과값을 s1이라는 변수에 넣습니다.\n",
    "\n",
    "    s2 = OR(x1, x2)\n",
    "    # 2. 다음 OR 논리게이트 함수에 입력값을 넣어서 결과값을\n",
    "\n",
    "    y = AND(s1, s2)\n",
    "    # 3. 마지막으로 s1과 s2의 결과값을 AND 논리게이트 함수에 넣어서 계산합니다.\n",
    "\n",
    "    return y  # 결과 y값을 반환."
   ]
  },
  {
   "cell_type": "code",
   "execution_count": null,
   "metadata": {
    "colab": {
     "base_uri": "https://localhost:8080/"
    },
    "id": "xO93ZlZY7F6e",
    "outputId": "ad36ce49-dd96-4960-e7ff-e899f768dbd2"
   },
   "outputs": [
    {
     "data": {
      "text/plain": [
       "0"
      ]
     },
     "execution_count": 13,
     "metadata": {},
     "output_type": "execute_result"
    }
   ],
   "source": [
    "XOR(0, 0)  # 0을 출력\n",
    "\n",
    "# NAND 결과값 = 1\n",
    "# OR 결과값 = 0\n",
    "# 따라서 AND 값은 0이 되어 0 return"
   ]
  },
  {
   "cell_type": "code",
   "execution_count": null,
   "metadata": {
    "colab": {
     "base_uri": "https://localhost:8080/"
    },
    "id": "w0l-p6Rr8EpV",
    "outputId": "399c95ec-2911-41aa-ac3c-804a458d906b"
   },
   "outputs": [
    {
     "data": {
      "text/plain": [
       "1"
      ]
     },
     "execution_count": 14,
     "metadata": {},
     "output_type": "execute_result"
    }
   ],
   "source": [
    "XOR(1, 0)  # 1을 출력\n",
    "\n",
    "# NAND 결과값 = 1\n",
    "# OR 결과값 = 1\n",
    "# 따라서 AND 값은 1이 되어 1 return"
   ]
  },
  {
   "cell_type": "code",
   "execution_count": null,
   "metadata": {
    "colab": {
     "base_uri": "https://localhost:8080/"
    },
    "id": "JhLETRwo8G1Q",
    "outputId": "707321f7-ae13-4997-c48f-39362fe872d3"
   },
   "outputs": [
    {
     "data": {
      "text/plain": [
       "1"
      ]
     },
     "execution_count": 15,
     "metadata": {},
     "output_type": "execute_result"
    }
   ],
   "source": [
    "XOR(0, 1)  # 1을 출력\n",
    "\n",
    "# NAND 결과값 = 1\n",
    "# OR 결과값 = 1\n",
    "# 따라서 AND 값은 1이 되어 1 return"
   ]
  },
  {
   "cell_type": "code",
   "execution_count": null,
   "metadata": {
    "colab": {
     "base_uri": "https://localhost:8080/"
    },
    "id": "Dlv-wI3v8JqC",
    "outputId": "9e414a2f-1d74-4f76-829c-f193b08e9473"
   },
   "outputs": [
    {
     "data": {
      "text/plain": [
       "0"
      ]
     },
     "execution_count": 16,
     "metadata": {},
     "output_type": "execute_result"
    }
   ],
   "source": [
    "XOR(1, 1)  # 0을 출력\n",
    "\n",
    "# NAND 결과값 =\n",
    "# OR 결과값 = 0\n",
    "# 따라서 AND 값은 0이 되어 0 return"
   ]
  }
 ],
 "metadata": {
  "colab": {
   "provenance": [],
   "toc_visible": true
  },
  "kernelspec": {
   "display_name": "Python 3",
   "name": "python3"
  },
  "language_info": {
   "name": "python"
  }
 },
 "nbformat": 4,
 "nbformat_minor": 0
}
