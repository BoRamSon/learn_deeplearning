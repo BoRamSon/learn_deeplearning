{
  "cells": [
    {
      "cell_type": "markdown",
      "metadata": {
        "id": "q31D9SXTvwui"
      },
      "source": [
        "# 1장. 헬로 파이썬  "
      ]
    },
    {
      "cell_type": "markdown",
      "metadata": {
        "id": "DVgRfxunIqiZ"
      },
      "source": [
        "## 1.3 파이썬 인터프리터  "
      ]
    },
    {
      "cell_type": "code",
      "execution_count": null,
      "metadata": {
        "colab": {
          "base_uri": "https://localhost:8080/"
        },
        "id": "6S38kt7sBikg",
        "outputId": "4d8b52da-ac85-47d3-ba85-9d6ccbced6df"
      },
      "outputs": [
        {
          "data": {
            "text/plain": [
              "3"
            ]
          },
          "execution_count": 1,
          "metadata": {},
          "output_type": "execute_result"
        }
      ],
      "source": [
        "1 + 2\n",
        "\n",
        "# 터미널에서 파이썬 인터프리터를 사용하여 대화식으로 프로그래밍할 수 있습니다.\n",
        "# 하지만 저는 jupyter notebook을 통해서 실습을 해보겠습니다."
      ]
    },
    {
      "cell_type": "markdown",
      "metadata": {
        "id": "A1Im3-4UBz7x"
      },
      "source": [
        "### 1.3.1 산술 연산  "
      ]
    },
    {
      "cell_type": "code",
      "execution_count": null,
      "metadata": {
        "colab": {
          "base_uri": "https://localhost:8080/"
        },
        "id": "rIEPttysBkvG",
        "outputId": "4a3122c4-0880-4ed7-9b76-fbe47d7b9573"
      },
      "outputs": [
        {
          "data": {
            "text/plain": [
              "-1"
            ]
          },
          "execution_count": 2,
          "metadata": {},
          "output_type": "execute_result"
        }
      ],
      "source": [
        "1 - 2  # 빼기: 1 - 2 = -1"
      ]
    },
    {
      "cell_type": "code",
      "execution_count": null,
      "metadata": {
        "colab": {
          "base_uri": "https://localhost:8080/"
        },
        "id": "OUaMOYnJBmmC",
        "outputId": "45cb3bc5-0162-4d27-ad1d-1880130c4c68"
      },
      "outputs": [
        {
          "data": {
            "text/plain": [
              "20"
            ]
          },
          "execution_count": 3,
          "metadata": {},
          "output_type": "execute_result"
        }
      ],
      "source": [
        "4 * 5  # 곱셈: 4 x 5 = 20"
      ]
    },
    {
      "cell_type": "code",
      "execution_count": 10,
      "metadata": {
        "colab": {
          "base_uri": "https://localhost:8080/"
        },
        "id": "j1re6U0KBqSG",
        "outputId": "0585507b-4355-4431-cd6d-7200c5d73f1d"
      },
      "outputs": [
        {
          "data": {
            "text/plain": [
              "1.4"
            ]
          },
          "execution_count": 10,
          "metadata": {},
          "output_type": "execute_result"
        }
      ],
      "source": [
        "7 / 5\n",
        "# 기본적인 나누기\n",
        "# return type = float (부동소수점)"
      ]
    },
    {
      "cell_type": "code",
      "execution_count": null,
      "metadata": {},
      "outputs": [
        {
          "data": {
            "text/plain": [
              "1"
            ]
          },
          "execution_count": 14,
          "metadata": {},
          "output_type": "execute_result"
        }
      ],
      "source": [
        "7 // 5\n",
        "# 소숫점을 버린 int type으로 반환됩니다."
      ]
    },
    {
      "cell_type": "code",
      "execution_count": 16,
      "metadata": {},
      "outputs": [
        {
          "data": {
            "text/plain": [
              "int"
            ]
          },
          "execution_count": 16,
          "metadata": {},
          "output_type": "execute_result"
        }
      ],
      "source": [
        "type(7 // 5)  # type 확인 시 int type 확인가능"
      ]
    },
    {
      "cell_type": "code",
      "execution_count": null,
      "metadata": {},
      "outputs": [
        {
          "data": {
            "text/plain": [
              "2"
            ]
          },
          "execution_count": 12,
          "metadata": {},
          "output_type": "execute_result"
        }
      ],
      "source": [
        "7 % 5  # 몫이 나머지 값을 return"
      ]
    },
    {
      "cell_type": "code",
      "execution_count": null,
      "metadata": {
        "colab": {
          "base_uri": "https://localhost:8080/"
        },
        "id": "hOn2ouHIBsYI",
        "outputId": "858058e4-992e-4f1c-c413-0ed2ee81445e"
      },
      "outputs": [
        {
          "data": {
            "text/plain": [
              "9"
            ]
          },
          "execution_count": 5,
          "metadata": {},
          "output_type": "execute_result"
        }
      ],
      "source": [
        "3**2  # 거듭제곱 (3의 2제곱)"
      ]
    },
    {
      "cell_type": "markdown",
      "metadata": {
        "id": "9yqofvJAB_d_"
      },
      "source": [
        "### 1.3.2 자료형  "
      ]
    },
    {
      "cell_type": "code",
      "execution_count": null,
      "metadata": {
        "colab": {
          "base_uri": "https://localhost:8080/"
        },
        "id": "AwU7MkjECBlk",
        "outputId": "0ec27c86-9e6d-4193-854e-fa829f22d4a9"
      },
      "outputs": [
        {
          "data": {
            "text/plain": [
              "int"
            ]
          },
          "execution_count": 6,
          "metadata": {},
          "output_type": "execute_result"
        }
      ],
      "source": [
        "type(10)  # 10이라는 것에 타입이 뭐야? = 10이라는 숫자 즉, int(integer)입니다."
      ]
    },
    {
      "cell_type": "code",
      "execution_count": null,
      "metadata": {
        "colab": {
          "base_uri": "https://localhost:8080/"
        },
        "id": "lUYaDbbzCE43",
        "outputId": "6f986e0d-ada1-4539-fad8-7436401754ae"
      },
      "outputs": [
        {
          "data": {
            "text/plain": [
              "float"
            ]
          },
          "execution_count": 7,
          "metadata": {},
          "output_type": "execute_result"
        }
      ],
      "source": [
        "type(2.718)  # 2.718이라는 것의 타입이 뭐야? = 소수는 float type입니다."
      ]
    },
    {
      "cell_type": "code",
      "execution_count": null,
      "metadata": {
        "colab": {
          "base_uri": "https://localhost:8080/"
        },
        "id": "AT9mM-i5CH4K",
        "outputId": "b97e3c15-8c2b-4e8c-e8c3-a22c0e9a9bc7"
      },
      "outputs": [
        {
          "data": {
            "text/plain": [
              "str"
            ]
          },
          "execution_count": 8,
          "metadata": {},
          "output_type": "execute_result"
        }
      ],
      "source": [
        "type(\n",
        "    \"hello\"\n",
        ")  # 따옴표, 쌍따옴표로 감싸진 것은 글자, 글씨 입니다. str(string) type입니다."
      ]
    },
    {
      "cell_type": "markdown",
      "metadata": {
        "id": "VHk92x4sCd8G"
      },
      "source": [
        "### 1.3.3 변수  "
      ]
    },
    {
      "cell_type": "code",
      "execution_count": null,
      "metadata": {
        "colab": {
          "base_uri": "https://localhost:8080/"
        },
        "id": "UugIyisfCgcR",
        "outputId": "822d18d9-573b-4b06-bd4d-f534653a4fdb"
      },
      "outputs": [
        {
          "name": "stdout",
          "output_type": "stream",
          "text": [
            "10\n"
          ]
        }
      ],
      "source": [
        "x = 10  # x라는 변수를 만들었습니다. 숫자 10을 x라는 변수에 넣습니다.\n",
        "print(x)  # x라는 변수를 출력하면 10이라는 숫자가 나옵니다."
      ]
    },
    {
      "cell_type": "code",
      "execution_count": null,
      "metadata": {
        "colab": {
          "base_uri": "https://localhost:8080/"
        },
        "id": "zO8HOHDCCi1W",
        "outputId": "734ef372-9a4f-4c0e-dcf4-f0e73a030df9"
      },
      "outputs": [
        {
          "name": "stdout",
          "output_type": "stream",
          "text": [
            "100\n"
          ]
        }
      ],
      "source": [
        "x = 100  # 기존 x라는 변수에 100이라는 숫자를 새롭게 덮어쓰기하듯이 넣습니다.\n",
        "print(x)  # x라는 변수를 출력하면 100이라는 숫자가 들어가있습니다."
      ]
    },
    {
      "cell_type": "code",
      "execution_count": 5,
      "metadata": {
        "colab": {
          "base_uri": "https://localhost:8080/"
        },
        "id": "PQ_As5LIClDx",
        "outputId": "6115a40b-3ecd-4d39-e8e0-b3abd57b817f"
      },
      "outputs": [
        {
          "data": {
            "text/plain": [
              "314.0"
            ]
          },
          "execution_count": 5,
          "metadata": {},
          "output_type": "execute_result"
        }
      ],
      "source": [
        "y = 3.14  # float type의 3.14값을 y라는 변수에 넣습니다.\n",
        "x * y"
      ]
    },
    {
      "cell_type": "code",
      "execution_count": null,
      "metadata": {
        "colab": {
          "base_uri": "https://localhost:8080/"
        },
        "id": "RYGgKsx1CprU",
        "outputId": "2ed2f524-6d30-4217-db97-213e85466eb0"
      },
      "outputs": [
        {
          "data": {
            "text/plain": [
              "float"
            ]
          },
          "execution_count": 12,
          "metadata": {},
          "output_type": "execute_result"
        }
      ],
      "source": [
        "type(x * y)  # 정수와 실수를 곱한 결과는 float로 자동 형변환 됩니다."
      ]
    },
    {
      "cell_type": "code",
      "execution_count": 18,
      "metadata": {},
      "outputs": [
        {
          "name": "stdout",
          "output_type": "stream",
          "text": [
            "빼기 ->  x - y 결과: 96.86 | type: <class 'float'>\n",
            "더하기 ->  x + y 결과: 103.14 | type: <class 'float'>\n"
          ]
        }
      ],
      "source": [
        "# 그렇다면 정수와 실수를 빼거나 더했을 때는 어떨까?\n",
        "print(f\"빼기 ->  x - y 결과: {x - y} | type: {type(x - y)}\")\n",
        "print(f\"더하기 ->  x + y 결과: {x + y} | type: {type(x + y)}\")\n",
        "# = 결과적으로 float 형변환이 된다."
      ]
    },
    {
      "cell_type": "markdown",
      "metadata": {
        "id": "uhVUfTpVCsdN"
      },
      "source": [
        "### 1.3.4 리스트  "
      ]
    },
    {
      "cell_type": "code",
      "execution_count": 20,
      "metadata": {
        "colab": {
          "base_uri": "https://localhost:8080/"
        },
        "id": "rES8DflUCw44",
        "outputId": "5783e984-339e-4e19-a1f0-af56df070267"
      },
      "outputs": [
        {
          "name": "stdout",
          "output_type": "stream",
          "text": [
            "[1, 2, 3, 4, 5]\n"
          ]
        }
      ],
      "source": [
        "a = [1, 2, 3, 4, 5]  # 리스트 생성\n",
        "print(a)  # 리스트의 내용 출력"
      ]
    },
    {
      "cell_type": "code",
      "execution_count": null,
      "metadata": {
        "colab": {
          "base_uri": "https://localhost:8080/"
        },
        "id": "w8GympYRC16d",
        "outputId": "f4239633-d676-4391-ba10-ecb069c661e9"
      },
      "outputs": [
        {
          "data": {
            "text/plain": [
              "5"
            ]
          },
          "execution_count": 14,
          "metadata": {},
          "output_type": "execute_result"
        }
      ],
      "source": [
        "len(a)  # length로 리스트의 길이 출력"
      ]
    },
    {
      "cell_type": "code",
      "execution_count": null,
      "metadata": {
        "colab": {
          "base_uri": "https://localhost:8080/"
        },
        "id": "2SUDbvQpC3oW",
        "outputId": "451aea03-dec1-4b69-c6f3-6802d980020d"
      },
      "outputs": [
        {
          "data": {
            "text/plain": [
              "1"
            ]
          },
          "execution_count": 15,
          "metadata": {},
          "output_type": "execute_result"
        }
      ],
      "source": [
        "a[0]\n",
        "# 대괄호를 통해 리스트의 인덱스에 접근한다.\n",
        "# 첫 원소에 접근"
      ]
    },
    {
      "cell_type": "code",
      "execution_count": null,
      "metadata": {
        "colab": {
          "base_uri": "https://localhost:8080/"
        },
        "id": "4ZIyr3EtC5nD",
        "outputId": "b6fc62b6-cc15-4465-f858-052059fbad52"
      },
      "outputs": [
        {
          "data": {
            "text/plain": [
              "5"
            ]
          },
          "execution_count": 16,
          "metadata": {},
          "output_type": "execute_result"
        }
      ],
      "source": [
        "a[4]  # 다섯 번째 원소에 접근"
      ]
    },
    {
      "cell_type": "code",
      "execution_count": null,
      "metadata": {
        "colab": {
          "base_uri": "https://localhost:8080/"
        },
        "id": "DMVO7KJXC8LY",
        "outputId": "fb44aad6-973d-464c-b50c-151043dd1e53"
      },
      "outputs": [
        {
          "name": "stdout",
          "output_type": "stream",
          "text": [
            "[1, 2, 3, 4, 99]\n"
          ]
        }
      ],
      "source": [
        "a[4] = 99\n",
        "# a라는 변수에 있는 리스트 내에 4번째 인덱스 값을 99로 만든다.\n",
        "# 값 대입\n",
        "print(a)"
      ]
    },
    {
      "cell_type": "code",
      "execution_count": null,
      "metadata": {
        "colab": {
          "base_uri": "https://localhost:8080/"
        },
        "id": "8wwz0Hq_DAmH",
        "outputId": "6f7f020b-c418-420e-a3ef-80f22afef6ed"
      },
      "outputs": [
        {
          "data": {
            "text/plain": [
              "[1, 2]"
            ]
          },
          "execution_count": 18,
          "metadata": {},
          "output_type": "execute_result"
        }
      ],
      "source": [
        "# 슬라이싱 ( ~부터 : 이 값 전까지  )\n",
        "a[0:2]  # 인덱스 0부터 2까지 얻기(2번째는 포함하지 않는다!)"
      ]
    },
    {
      "cell_type": "code",
      "execution_count": null,
      "metadata": {
        "colab": {
          "base_uri": "https://localhost:8080/"
        },
        "id": "EOqGuiRaDQyb",
        "outputId": "ca3dcb19-00fd-4b72-b2da-89484ec3f693"
      },
      "outputs": [
        {
          "data": {
            "text/plain": [
              "[2, 3, 4, 99]"
            ]
          },
          "execution_count": 19,
          "metadata": {},
          "output_type": "execute_result"
        }
      ],
      "source": [
        "a[1:]\n",
        "# '~까지' 라는 조건이 없다면 '끝까지' 가져옴.\n",
        "# 인덱스 1부터 끝까지 얻기."
      ]
    },
    {
      "cell_type": "code",
      "execution_count": null,
      "metadata": {
        "colab": {
          "base_uri": "https://localhost:8080/"
        },
        "id": "mkFlssWCDVn2",
        "outputId": "795272f5-418d-4470-a90f-b610a13e47ba"
      },
      "outputs": [
        {
          "data": {
            "text/plain": [
              "[1, 2, 3]"
            ]
          },
          "execution_count": 20,
          "metadata": {},
          "output_type": "execute_result"
        }
      ],
      "source": [
        "a[:3]\n",
        "# '~부터'라는 조건이 없다면 '처음부터' 가져옴.\n",
        "# 처음부터 인덱스 3까지 얻기(3번째는 포함하지 않는다!)"
      ]
    },
    {
      "cell_type": "code",
      "execution_count": null,
      "metadata": {
        "colab": {
          "base_uri": "https://localhost:8080/"
        },
        "id": "_crUmFHvDZCI",
        "outputId": "f8dfd289-d019-4db8-a4b6-9e9fd8dc2786"
      },
      "outputs": [
        {
          "data": {
            "text/plain": [
              "[1, 2, 3, 4]"
            ]
          },
          "execution_count": 21,
          "metadata": {},
          "output_type": "execute_result"
        }
      ],
      "source": [
        "a[:-1]\n",
        "# '~부터'라는 조건이 없다면 '처음부터' 가져옴.\n",
        "# 처음부터 마지막 원소의 1개 앞까지 얻기"
      ]
    },
    {
      "cell_type": "code",
      "execution_count": null,
      "metadata": {
        "colab": {
          "base_uri": "https://localhost:8080/"
        },
        "id": "rpBHYlPfDcKh",
        "outputId": "7620ff97-cdcf-4c0d-8d88-5d772e9b7fc1"
      },
      "outputs": [
        {
          "data": {
            "text/plain": [
              "[1, 2, 3]"
            ]
          },
          "execution_count": 22,
          "metadata": {},
          "output_type": "execute_result"
        }
      ],
      "source": [
        "a[:-2]\n",
        "# 처음부터 마지막 원소의 2개 앞까지 얻기\n",
        "# 뒤에서 2번째까지 (2번째는 포함하지 않는다)"
      ]
    },
    {
      "cell_type": "markdown",
      "metadata": {
        "id": "lkFXp18sDfgG"
      },
      "source": [
        "### 1.3.5 딕셔너리  \n",
        "- {}중괄호를 사용합니다.  \n",
        "- 키:값 형태를 갖습니다.  "
      ]
    },
    {
      "cell_type": "code",
      "execution_count": null,
      "metadata": {
        "colab": {
          "base_uri": "https://localhost:8080/"
        },
        "id": "_svQ6MR8DiDj",
        "outputId": "625400ea-1ea8-4580-8aff-f9e15e52d0d9"
      },
      "outputs": [
        {
          "data": {
            "text/plain": [
              "180"
            ]
          },
          "execution_count": 23,
          "metadata": {},
          "output_type": "execute_result"
        }
      ],
      "source": [
        "me = {\"height\": 180}  # me라는 변수에 딕셔너리 넣습니다.(생성)\n",
        "me[\"height\"]  # 원소에 접근 (키를 통해서 값을 알 수 있습니다.)"
      ]
    },
    {
      "cell_type": "code",
      "execution_count": null,
      "metadata": {
        "colab": {
          "base_uri": "https://localhost:8080/"
        },
        "id": "R7L_YxNbDpkF",
        "outputId": "39d5e045-7661-4bc1-c862-a100fd2cfcc6"
      },
      "outputs": [
        {
          "name": "stdout",
          "output_type": "stream",
          "text": [
            "{'height': 180, 'weight': 70}\n"
          ]
        }
      ],
      "source": [
        "me[\"weight\"] = (\n",
        "    70  # me라는 변수(dict type)에 새로운 dictionary를 추가합니다. (새 원소 추가)\n",
        ")\n",
        "print(me)  # 키와 몸무게 존재합니다."
      ]
    },
    {
      "cell_type": "markdown",
      "metadata": {
        "id": "_TjITiN4D_ct"
      },
      "source": [
        "### 1.3.6 bool  "
      ]
    },
    {
      "cell_type": "code",
      "execution_count": null,
      "metadata": {
        "id": "HKtn33uAECIg"
      },
      "outputs": [],
      "source": [
        "hungry = True  # 배가 고프다 라는 의미가 진실이다.\n",
        "sleepy = False  # 졸리지 않다 라는 의미가 거짓이다."
      ]
    },
    {
      "cell_type": "code",
      "execution_count": null,
      "metadata": {
        "colab": {
          "base_uri": "https://localhost:8080/"
        },
        "id": "el-oTNhgEOFo",
        "outputId": "1b29c2c4-ceed-445d-b4e6-b43f34b8c487"
      },
      "outputs": [
        {
          "data": {
            "text/plain": [
              "bool"
            ]
          },
          "execution_count": 26,
          "metadata": {},
          "output_type": "execute_result"
        }
      ],
      "source": [
        "type(hungry)  # boolean type이다."
      ]
    },
    {
      "cell_type": "code",
      "execution_count": null,
      "metadata": {
        "colab": {
          "base_uri": "https://localhost:8080/"
        },
        "id": "SkudayasEQN1",
        "outputId": "9af065e4-32aa-45a6-aaea-d468dad059c6"
      },
      "outputs": [
        {
          "data": {
            "text/plain": [
              "False"
            ]
          },
          "execution_count": 27,
          "metadata": {},
          "output_type": "execute_result"
        }
      ],
      "source": [
        "# not - 해당 boolean의 반대\n",
        "not hungry"
      ]
    },
    {
      "cell_type": "code",
      "execution_count": null,
      "metadata": {
        "colab": {
          "base_uri": "https://localhost:8080/"
        },
        "id": "5-znZrvIESeB",
        "outputId": "71c63dc2-3fb1-4fb9-db8e-c5dcf043b3ca"
      },
      "outputs": [
        {
          "data": {
            "text/plain": [
              "False"
            ]
          },
          "execution_count": 28,
          "metadata": {},
          "output_type": "execute_result"
        }
      ],
      "source": [
        "# and - 모두 다 True여야 True입니다.\n",
        "hungry and sleepy  # '배가 고프다' 그리고 '졸리지 않다'"
      ]
    },
    {
      "cell_type": "code",
      "execution_count": null,
      "metadata": {
        "colab": {
          "base_uri": "https://localhost:8080/"
        },
        "id": "IimsHPyXEYwa",
        "outputId": "3ecc36e6-0794-4687-b3f4-5079279694ec"
      },
      "outputs": [
        {
          "data": {
            "text/plain": [
              "True"
            ]
          },
          "execution_count": 29,
          "metadata": {},
          "output_type": "execute_result"
        }
      ],
      "source": [
        "# or - 하나만 True라면 True입니다.\n",
        "hungry or sleepy  # '배가 고프다' 또는 '졸리지 않다'"
      ]
    },
    {
      "cell_type": "markdown",
      "metadata": {
        "id": "uO8rFdm0Edg5"
      },
      "source": [
        "### 1.3.7 if 문  "
      ]
    },
    {
      "cell_type": "code",
      "execution_count": null,
      "metadata": {
        "colab": {
          "base_uri": "https://localhost:8080/"
        },
        "id": "i0s_2OWLEiCt",
        "outputId": "b313ad69-e89b-4816-9c17-2d5ce4559b66"
      },
      "outputs": [
        {
          "name": "stdout",
          "output_type": "stream",
          "text": [
            "I'm hungry\n"
          ]
        }
      ],
      "source": [
        "hungry = True\n",
        "\n",
        "if hungry:  # 만약 hugry라는 변수가 True라면\n",
        "    print(\"I'm hungry\")  # 이 글씨(str)를 출력해라."
      ]
    },
    {
      "cell_type": "code",
      "execution_count": null,
      "metadata": {
        "colab": {
          "base_uri": "https://localhost:8080/"
        },
        "id": "s7ELLi6NEpJs",
        "outputId": "03f99cb6-c269-42eb-d29c-a019544a5303"
      },
      "outputs": [
        {
          "name": "stdout",
          "output_type": "stream",
          "text": [
            "I'm not hungry\n",
            "I'm sleepy\n"
          ]
        }
      ],
      "source": [
        "hungry = False\n",
        "\n",
        "if hungry:\n",
        "    print(\"I'm hungry\")\n",
        "else:  # 만약 hugry가 True가 아니라면\n",
        "    print(\"I'm not hungry\")  # 이 동작을 해라.\n",
        "    print(\"I'm sleepy\")"
      ]
    },
    {
      "cell_type": "markdown",
      "metadata": {
        "id": "WKKwAvSZE4X0"
      },
      "source": [
        "### 1.3.8 for 문  "
      ]
    },
    {
      "cell_type": "code",
      "execution_count": null,
      "metadata": {
        "colab": {
          "base_uri": "https://localhost:8080/"
        },
        "id": "Q8RYnkeEE66l",
        "outputId": "57154d80-98ff-4527-cb9a-a96d7d9e6d86"
      },
      "outputs": [
        {
          "name": "stdout",
          "output_type": "stream",
          "text": [
            "1\n",
            "2\n",
            "3\n"
          ]
        }
      ],
      "source": [
        "for i in [1, 2, 3]:  # 1,2,3 각각 원소를 가진 list가 있다.\n",
        "    # for문은 iterable 특성을 가진 것들의 내부 값을 하나씩 가져와서 동작한다. or 테이터 집합의 각 원소에 차례로 접근.\n",
        "    print(i)  # 단순히 출력하고 다음 값으로 넘어갑니다."
      ]
    },
    {
      "cell_type": "markdown",
      "metadata": {
        "id": "tpRkfObOE-p6"
      },
      "source": [
        "### 1.3.9 함수  "
      ]
    },
    {
      "cell_type": "code",
      "execution_count": null,
      "metadata": {
        "colab": {
          "base_uri": "https://localhost:8080/"
        },
        "id": "S2p36mUcFAoG",
        "outputId": "43beaaf9-7cef-4b88-de86-d883c8fad3b9"
      },
      "outputs": [
        {
          "name": "stdout",
          "output_type": "stream",
          "text": [
            "Hello World!\n"
          ]
        }
      ],
      "source": [
        "def hello():  # 특정 동작을 하는 코드를 블록같은 것에 넣어 하나의 기능처럼 만든다.\n",
        "    print(\"Hello World!\")\n",
        "    # hello() 함수를 실행하면 해당 텍스트(str)을 출력하는 기능이 전부이다.\n",
        "\n",
        "\n",
        "hello()  # Hello World! (str)을 출력함"
      ]
    },
    {
      "cell_type": "code",
      "execution_count": null,
      "metadata": {
        "colab": {
          "base_uri": "https://localhost:8080/"
        },
        "id": "TK2jl0CHFHml",
        "outputId": "09b59b61-7770-4ccd-a316-acaa6adad7ab"
      },
      "outputs": [
        {
          "name": "stdout",
          "output_type": "stream",
          "text": [
            "Hello cat!\n"
          ]
        }
      ],
      "source": [
        "def hello(object):  # 함수에 매개변수를 주었다.\n",
        "    print(\"Hello \" + object + \"!\")\n",
        "    # 함수 실행 시 주어진 매개변수가 들어와서 계산 및 동작함.\n",
        "\n",
        "\n",
        "hello(\"cat\")  # 매개변수 지정 필수 (cat이라는 텍스트를 넣음)\n",
        "# print(\"Hello \" + \"cat\" + \"!\") = Hello cat! 이 나옵니다."
      ]
    },
    {
      "cell_type": "markdown",
      "metadata": {
        "id": "6OJ3OflCFRkI"
      },
      "source": [
        "## 1.4 파이썬 스크립트 파일  "
      ]
    },
    {
      "cell_type": "markdown",
      "metadata": {
        "id": "7Htqo1C7IwGh"
      },
      "source": [
        "### 1.4.1 파일로 저장하기  \n",
        "\n",
        "- <직접 실습하기>  \n",
        "    1. 현재 디렉토리에 hungry.py 파일을 만든다.  \n",
        "    2. `print(\"I'm hungry!\")` 해당 문장 하나만 작성한다.  \n",
        "    3. 저장한다.  \n",
        "    4. 터미널을 열고, 터미널에서 현재 디렉토리까지 이동한다.  \n",
        "    5. 터미널에 `python hungry.py`라고 입력한다.  \n",
        "    6. 코드에 맞게 출력된 텍스트를 확인한다.  "
      ]
    },
    {
      "cell_type": "code",
      "execution_count": null,
      "metadata": {
        "colab": {
          "base_uri": "https://localhost:8080/"
        },
        "id": "VHCjCPhFFgOO",
        "outputId": "f425a2d9-35fe-4e1f-af7f-a4f5ca88e710"
      },
      "outputs": [
        {
          "name": "stdout",
          "output_type": "stream",
          "text": [
            "I'm hungry!\n"
          ]
        }
      ],
      "source": [
        "print(\"I'm hungry!\")"
      ]
    },
    {
      "cell_type": "markdown",
      "metadata": {
        "id": "p9Cz3v8AFsJZ"
      },
      "source": [
        "### 1.4.2 클래스  "
      ]
    },
    {
      "cell_type": "markdown",
      "metadata": {
        "id": "TEWZ2g8IwBpP"
      },
      "source": [
        "***ch01/man.py***  "
      ]
    },
    {
      "cell_type": "code",
      "execution_count": null,
      "metadata": {
        "colab": {
          "base_uri": "https://localhost:8080/"
        },
        "id": "UnCQMRXpvVwa",
        "outputId": "be3905ab-4eec-4ba2-80c1-090c3c26862f"
      },
      "outputs": [
        {
          "name": "stdout",
          "output_type": "stream",
          "text": [
            "Initilized!\n",
            "Hello David!\n",
            "Good-bye David!\n"
          ]
        }
      ],
      "source": [
        "class Man:\n",
        "    def __init__(self, name):\n",
        "        # constructor(생성자)라고 합니다. name이라는 매개변수가 있습니다. (초기화 메서드)\n",
        "\n",
        "        self.name = name\n",
        "        # name 매개변수를 통해 들어온 name 인수를 self.name에 초기화함.\n",
        "\n",
        "        print(\"Initilized!\")  # 생성자 동작 마지막 출력됨.\n",
        "\n",
        "    def hello(self):\n",
        "        print(\"Hello \" + self.name + \"!\")  # class 내 self.name 변수를 가져와서 사용\n",
        "\n",
        "    def goodbye(self):\n",
        "        print(\"Good-bye \" + self.name + \"!\")  # class 내 self.name 변수를 가져와서 사용\n",
        "\n",
        "\n",
        "m = Man(\"David\")\n",
        "m.hello()\n",
        "m.goodbye()"
      ]
    },
    {
      "cell_type": "markdown",
      "metadata": {
        "id": "_tbX20AmF4hw"
      },
      "source": [
        "<br><br>\n",
        "\n",
        "---\n",
        "\n",
        "## 1.5 넘파이  \n",
        "\n",
        "### 배열의 속성들  \n",
        "| 속성           | 의미               | 예시 값              |  \n",
        "| ------------ | ---------------- | -------------------- |\n",
        "| **dtype**    | 원소의 자료형이 무엇인지 알려줌    |   int32, float64, bool                     |  \n",
        "| **shape**    | 배열의 구조 (행, 열, …)을 알려줌 |   (2, 3) → 2행 3열                          |  \n",
        "| **ndim**     | 차원 수             | 1차원, 2차원, 3차원 (얼마나 감싸졌는지로 쉽게 확인 가능)       |  \n",
        "| **size**     | 전체 원소 개수         | 6  (차원 구분 없이 모든 원소 갯수 세기)                   |  \n",
        "| **itemsize** | 원소 하나의 크기(byte)  | 8  (배열의 각 원소가 메모리에서 차지하는 바이트 크기)        |  "
      ]
    },
    {
      "cell_type": "markdown",
      "metadata": {
        "id": "nF7cl3nTI0dA"
      },
      "source": [
        "\n",
        "### 1.5.1 넘파이 가져오기  "
      ]
    },
    {
      "cell_type": "code",
      "execution_count": null,
      "metadata": {},
      "outputs": [],
      "source": [
        "# !uv add numpy"
      ]
    },
    {
      "cell_type": "code",
      "execution_count": 2,
      "metadata": {
        "id": "iA9oB11oF9cL"
      },
      "outputs": [],
      "source": [
        "import numpy as np"
      ]
    },
    {
      "cell_type": "markdown",
      "metadata": {
        "id": "173KMMMdGBQM"
      },
      "source": [
        "### 1.5.2 넘파이 배열 생성하기  "
      ]
    },
    {
      "cell_type": "code",
      "execution_count": null,
      "metadata": {
        "colab": {
          "base_uri": "https://localhost:8080/"
        },
        "id": "ooYGZDRWGEMs",
        "outputId": "1469658d-61b8-42db-b3bd-d54171ac1eba"
      },
      "outputs": [
        {
          "name": "stdout",
          "output_type": "stream",
          "text": [
            "[1. 2. 3.]\n"
          ]
        }
      ],
      "source": [
        "x = np.array([1.0, 2.0, 3.0])\n",
        "# 파이썬 리스트를 인수로 받아 넘파이 라이브러리가 제공하는 특수한 형태의 배열(numpy.ndarray)을 반환\n",
        "# 1차원 배열(벡터) 생성\n",
        "\n",
        "print(x)"
      ]
    },
    {
      "cell_type": "code",
      "execution_count": null,
      "metadata": {
        "colab": {
          "base_uri": "https://localhost:8080/"
        },
        "id": "ToFI4_mSGJGP",
        "outputId": "08bed3e2-cb6c-4fc7-adfb-53e9a84efde2"
      },
      "outputs": [
        {
          "data": {
            "text/plain": [
              "numpy.ndarray"
            ]
          },
          "execution_count": 39,
          "metadata": {},
          "output_type": "execute_result"
        }
      ],
      "source": [
        "type(x)"
      ]
    },
    {
      "cell_type": "markdown",
      "metadata": {
        "id": "07LD2VG4GTrb"
      },
      "source": [
        "### 1.5.3 넘파이의 산술 연산  "
      ]
    },
    {
      "cell_type": "code",
      "execution_count": null,
      "metadata": {
        "colab": {
          "base_uri": "https://localhost:8080/"
        },
        "id": "x-jy9zxpGVyq",
        "outputId": "70f23b96-0800-405b-d13b-6b1432ed59e4"
      },
      "outputs": [
        {
          "data": {
            "text/plain": [
              "array([3., 6., 9.])"
            ]
          },
          "execution_count": 40,
          "metadata": {},
          "output_type": "execute_result"
        }
      ],
      "source": [
        "x = np.array([1.0, 2.0, 3.0])  # x라는 벡터\n",
        "y = np.array([2.0, 4.0, 6.0])  # y라는 벡터\n",
        "\n",
        "x + y  # 원소별 덧셈"
      ]
    },
    {
      "cell_type": "code",
      "execution_count": null,
      "metadata": {
        "colab": {
          "base_uri": "https://localhost:8080/"
        },
        "id": "xj_TGgLxGhHX",
        "outputId": "31f9b7c7-2025-486c-c5fe-d734371b9e3a"
      },
      "outputs": [
        {
          "data": {
            "text/plain": [
              "array([-1., -2., -3.])"
            ]
          },
          "execution_count": 41,
          "metadata": {},
          "output_type": "execute_result"
        }
      ],
      "source": [
        "x - y  # 원소별 뺄셈"
      ]
    },
    {
      "cell_type": "code",
      "execution_count": null,
      "metadata": {
        "colab": {
          "base_uri": "https://localhost:8080/"
        },
        "id": "4vkVGDYqGkAg",
        "outputId": "f71421a6-c598-4193-e454-a42376ed6259"
      },
      "outputs": [
        {
          "data": {
            "text/plain": [
              "array([ 2.,  8., 18.])"
            ]
          },
          "execution_count": 42,
          "metadata": {},
          "output_type": "execute_result"
        }
      ],
      "source": [
        "x * y  # 원소별 곱셈"
      ]
    },
    {
      "cell_type": "code",
      "execution_count": null,
      "metadata": {
        "colab": {
          "base_uri": "https://localhost:8080/"
        },
        "id": "XgeQ0_7iGmCu",
        "outputId": "0248d141-ae85-4661-9bf1-678af4e9a232"
      },
      "outputs": [
        {
          "data": {
            "text/plain": [
              "array([0.5, 0.5, 0.5])"
            ]
          },
          "execution_count": 43,
          "metadata": {},
          "output_type": "execute_result"
        }
      ],
      "source": [
        "x / y  # 원소별 나눗셈"
      ]
    },
    {
      "cell_type": "code",
      "execution_count": null,
      "metadata": {
        "colab": {
          "base_uri": "https://localhost:8080/"
        },
        "id": "7ESyOKEuGq0y",
        "outputId": "38c8e743-3ea9-439b-c16c-20fc1dd962b6"
      },
      "outputs": [
        {
          "data": {
            "text/plain": [
              "array([0.5, 1. , 1.5])"
            ]
          },
          "execution_count": 44,
          "metadata": {},
          "output_type": "execute_result"
        }
      ],
      "source": [
        "x = np.array([1.0, 2.0, 3.0])\n",
        "x / 2.0"
      ]
    },
    {
      "cell_type": "markdown",
      "metadata": {
        "id": "UNpYLjSaGtH5"
      },
      "source": [
        "### 1.5.4 넘파이의 N차원 배열  "
      ]
    },
    {
      "cell_type": "code",
      "execution_count": null,
      "metadata": {
        "colab": {
          "base_uri": "https://localhost:8080/"
        },
        "id": "MIo_NrrIGwOs",
        "outputId": "4aec5b15-4d05-4b3b-e494-509328462ff0"
      },
      "outputs": [
        {
          "name": "stdout",
          "output_type": "stream",
          "text": [
            "[[1 2]\n",
            " [3 4]]\n"
          ]
        }
      ],
      "source": [
        "A = np.array([[1, 2], [3, 4]])  # 2차원 배열인 행렬을 만듬 (2행 2열)\n",
        "print(A)"
      ]
    },
    {
      "cell_type": "code",
      "execution_count": null,
      "metadata": {
        "colab": {
          "base_uri": "https://localhost:8080/"
        },
        "id": "Ojhujlb8G2Zk",
        "outputId": "9d61289a-cbd1-4e13-8447-cc5148c44512"
      },
      "outputs": [
        {
          "data": {
            "text/plain": [
              "(2, 2)"
            ]
          },
          "execution_count": 46,
          "metadata": {},
          "output_type": "execute_result"
        }
      ],
      "source": [
        "A.shape  # 해당 배열(행렬)의 행과 열을 수를 tuple 형태로 반환합니다.\n",
        "# = 2행 2열"
      ]
    },
    {
      "cell_type": "code",
      "execution_count": null,
      "metadata": {
        "colab": {
          "base_uri": "https://localhost:8080/"
        },
        "id": "qqEyYCNaG4qi",
        "outputId": "fa328cf2-3a0a-40b1-d69b-966750854c85"
      },
      "outputs": [
        {
          "data": {
            "text/plain": [
              "dtype('int64')"
            ]
          },
          "execution_count": 47,
          "metadata": {},
          "output_type": "execute_result"
        }
      ],
      "source": [
        "A.dtype  # 내부 원소들의 자료현이 무엇인지 파악합니다."
      ]
    },
    {
      "cell_type": "code",
      "execution_count": null,
      "metadata": {
        "colab": {
          "base_uri": "https://localhost:8080/"
        },
        "id": "Z15appBJG7as",
        "outputId": "ab08bd34-7201-47b9-8d72-8492cf94f23a"
      },
      "outputs": [
        {
          "data": {
            "text/plain": [
              "array([[ 4,  2],\n",
              "       [ 3, 10]])"
            ]
          },
          "execution_count": 48,
          "metadata": {},
          "output_type": "execute_result"
        }
      ],
      "source": [
        "B = np.array([[3, 0], [0, 6]])  # B라는 2차원 배열인 행렬을 만듬\n",
        "A + B  # 기본 사칙 연산 + 더하기"
      ]
    },
    {
      "cell_type": "code",
      "execution_count": null,
      "metadata": {
        "colab": {
          "base_uri": "https://localhost:8080/"
        },
        "id": "3ZFTaqFUHAfJ",
        "outputId": "f033e57e-19a1-4673-d2c8-f4fd569de291"
      },
      "outputs": [
        {
          "data": {
            "text/plain": [
              "array([[ 3,  0],\n",
              "       [ 0, 24]])"
            ]
          },
          "execution_count": 49,
          "metadata": {},
          "output_type": "execute_result"
        }
      ],
      "source": [
        "A * B  # 기본 사칙 연산 * 곱하기"
      ]
    },
    {
      "cell_type": "code",
      "execution_count": null,
      "metadata": {
        "colab": {
          "base_uri": "https://localhost:8080/"
        },
        "id": "pWx4lZtuHEXh",
        "outputId": "8df6c70f-6e14-431b-aa5e-2e4aaa316427"
      },
      "outputs": [
        {
          "name": "stdout",
          "output_type": "stream",
          "text": [
            "[[1 2]\n",
            " [3 4]]\n"
          ]
        }
      ],
      "source": [
        "print(A)  # 단순 A라는 배열을 출력합니다."
      ]
    },
    {
      "cell_type": "code",
      "execution_count": null,
      "metadata": {
        "colab": {
          "base_uri": "https://localhost:8080/"
        },
        "id": "UNm_BB1dHGam",
        "outputId": "a3e38037-6f0f-48d9-eee4-1dd8c86bded0"
      },
      "outputs": [
        {
          "data": {
            "text/plain": [
              "array([[10, 20],\n",
              "       [30, 40]])"
            ]
          },
          "execution_count": 51,
          "metadata": {},
          "output_type": "execute_result"
        }
      ],
      "source": [
        "# 브로트 캐스트\n",
        "\n",
        "A * 10  # A라는 행렬 * 값이 하나뿐인 스칼라\n",
        "# 형상이 다른 행렬끼리 계산이 가능합니다.\n",
        "# 브로캐스트를 통해 자동으로 numpy가 스칼라의 shape를 [[10,10], [10,10]]으로 만들어서 계산합니다."
      ]
    },
    {
      "cell_type": "markdown",
      "metadata": {
        "id": "Z6XMELu_HI4O"
      },
      "source": [
        "### 1.5.5 브로드캐스트  "
      ]
    },
    {
      "cell_type": "code",
      "execution_count": null,
      "metadata": {
        "colab": {
          "base_uri": "https://localhost:8080/"
        },
        "id": "ZJl8J1XTHLwP",
        "outputId": "5af1352c-644f-4638-c7ed-a26a8d81994b"
      },
      "outputs": [
        {
          "data": {
            "text/plain": [
              "array([[10, 40],\n",
              "       [30, 80]])"
            ]
          },
          "execution_count": 52,
          "metadata": {},
          "output_type": "execute_result"
        }
      ],
      "source": [
        "A = np.array([[1, 2], [3, 4]])  # 2차원 배열 = 행렬\n",
        "B = np.array([10, 20])  # 이 벡터의 shape가 브로드캐스트되면 [[10,20], [10,20]]입니다.\n",
        "A * B  # 행렬 shape가 (2,2) * (2,2) 와 같이 계산이 되어 정상적인 연산 결과를 확인할 수 있습니다."
      ]
    },
    {
      "cell_type": "markdown",
      "metadata": {
        "id": "8IDeIZv_HVqt"
      },
      "source": [
        "### 1.5.6 원소 접근  "
      ]
    },
    {
      "cell_type": "code",
      "execution_count": 6,
      "metadata": {
        "colab": {
          "base_uri": "https://localhost:8080/"
        },
        "id": "VEciBh8GHYxg",
        "outputId": "0afd3820-b073-4d3b-c1ea-ab1412169a73"
      },
      "outputs": [
        {
          "name": "stdout",
          "output_type": "stream",
          "text": [
            "[[51 55]\n",
            " [14 19]\n",
            " [ 0  4]]\n"
          ]
        }
      ],
      "source": [
        "X = np.array([[51, 55], [14, 19], [0, 4]])\n",
        "print(X)"
      ]
    },
    {
      "cell_type": "code",
      "execution_count": null,
      "metadata": {
        "colab": {
          "base_uri": "https://localhost:8080/"
        },
        "id": "oipvTGBVHgMS",
        "outputId": "a5fbec6c-304b-4dd6-e6be-e43c024fe58e"
      },
      "outputs": [
        {
          "data": {
            "text/plain": [
              "array([51, 55])"
            ]
          },
          "execution_count": 54,
          "metadata": {},
          "output_type": "execute_result"
        }
      ],
      "source": [
        "# 마치 python list에서 인덱스로 각각의 원소에 접근했듯이 인덱스를 통해 행렬에 접근합니다.\n",
        "X[0]  # 현재 행렬의 0번쨰 값을 확인할 수 있습니다."
      ]
    },
    {
      "cell_type": "code",
      "execution_count": null,
      "metadata": {
        "colab": {
          "base_uri": "https://localhost:8080/"
        },
        "id": "bD4BU1K0HjgF",
        "outputId": "897e290d-602a-40cd-afa8-25ff9ecb0489"
      },
      "outputs": [
        {
          "data": {
            "text/plain": [
              "np.int64(55)"
            ]
          },
          "execution_count": 7,
          "metadata": {},
          "output_type": "execute_result"
        }
      ],
      "source": [
        "X[0][1]  # (0, 1) 위치의 원소\n",
        "# X라는 행렬의 0번째 원소의 1번째 원소를 의미합니다."
      ]
    },
    {
      "cell_type": "code",
      "execution_count": null,
      "metadata": {
        "colab": {
          "base_uri": "https://localhost:8080/"
        },
        "id": "YbyF2FDFHopB",
        "outputId": "9431134a-2086-4391-adb7-a714e3df8c68"
      },
      "outputs": [
        {
          "name": "stdout",
          "output_type": "stream",
          "text": [
            "[51 55]\n",
            "[14 19]\n",
            "[0 4]\n"
          ]
        }
      ],
      "source": [
        "for row in X:\n",
        "    print(row)"
      ]
    },
    {
      "cell_type": "code",
      "execution_count": null,
      "metadata": {
        "colab": {
          "base_uri": "https://localhost:8080/"
        },
        "id": "erVc63ZTHs5H",
        "outputId": "055c1694-7619-4f40-b26b-7ca37087053b"
      },
      "outputs": [
        {
          "name": "stdout",
          "output_type": "stream",
          "text": [
            "[51 55 14 19  0  4]\n",
            "[51 55 14 19  0  4 51 55 14 19  0  4 51 55 14 19  0  4]\n"
          ]
        }
      ],
      "source": [
        "# 🆘 flatten\n",
        "X = X.flatten()  # X를 1차원 배열로 변환(평탄화)\n",
        "\n",
        "print(X)\n",
        "\n",
        "# 궁금증 test\n",
        "XXX = np.array(\n",
        "    [\n",
        "        [[51, 55], [14, 19], [0, 4]],\n",
        "        [[51, 55], [14, 19], [0, 4]],\n",
        "        [[51, 55], [14, 19], [0, 4]],\n",
        "    ]\n",
        ")\n",
        "XXX = XXX.flatten()\n",
        "print(XXX)"
      ]
    },
    {
      "cell_type": "code",
      "execution_count": null,
      "metadata": {
        "colab": {
          "base_uri": "https://localhost:8080/"
        },
        "id": "_LyLu82nHzbF",
        "outputId": "5f07c1a2-7cec-447b-c951-4c5cdaf19b48"
      },
      "outputs": [
        {
          "name": "stdout",
          "output_type": "stream",
          "text": [
            "[51 14  0]\n",
            "[51 55 14 19  0  4]\n"
          ]
        }
      ],
      "source": [
        "# X는 현재 1차원 배열임\n",
        "# 🆘 X 배열에서 인덱스 0,2,4에 해당되는 값만 별도 배열로 만듭니다.\n",
        "X[np.array([0, 2, 4])]  # 인덱스가 0, 2, 4인 원소 얻기\n",
        "# 원본을 그대로 두고, 새로운 배열을 반환.\n",
        "\n",
        "# ------------------------------------\n",
        "\n",
        "XXXXX = X[np.array([0, 2, 4])]  # 원본을 그대로 두고, 새로운 배열을 반환.\n",
        "print(XXXXX)  # 원본을 그대로 두고, 새로운 배열을 반환.\n",
        "\n",
        "print(X)  # 원본이 변경되지 않음을 확인."
      ]
    },
    {
      "cell_type": "code",
      "execution_count": null,
      "metadata": {
        "colab": {
          "base_uri": "https://localhost:8080/"
        },
        "id": "U8Atc0WZH56y",
        "outputId": "607bba8c-aeb1-427b-bd42-03eb611c827a"
      },
      "outputs": [
        {
          "data": {
            "text/plain": [
              "array([ True,  True, False,  True, False, False])"
            ]
          },
          "execution_count": 59,
          "metadata": {},
          "output_type": "execute_result"
        }
      ],
      "source": [
        "# X는 현재 1차원 배열임\n",
        "X > 15\n",
        "# 🆘 X 배열에서 15보다 큰 것은 True, 작으면 False를 반환"
      ]
    },
    {
      "cell_type": "code",
      "execution_count": null,
      "metadata": {
        "colab": {
          "base_uri": "https://localhost:8080/"
        },
        "id": "Yc7r73mBH8ir",
        "outputId": "b29dc5cc-9287-4968-8620-82b1f9d9cc5b"
      },
      "outputs": [
        {
          "data": {
            "text/plain": [
              "array([51, 55, 19])"
            ]
          },
          "execution_count": 60,
          "metadata": {},
          "output_type": "execute_result"
        }
      ],
      "source": [
        "X[X > 15]\n",
        "# 🆘 X 배열에서 15보다 큰 값의 인덱스를 파악 -> 해당 인덱스의 값만 가지고 새로운 배열을 반환"
      ]
    },
    {
      "cell_type": "markdown",
      "metadata": {
        "id": "o5TKoIgVIAHm"
      },
      "source": [
        "<br><br>\n",
        "\n",
        "---\n",
        "\n",
        "## 1.6 맷플롯립  "
      ]
    },
    {
      "cell_type": "markdown",
      "metadata": {
        "id": "yxjysDrJI50s"
      },
      "source": [
        "### 1.6.1 단순한 그래프 그리기  "
      ]
    },
    {
      "cell_type": "markdown",
      "metadata": {
        "id": "0hH-HMEMwKv8"
      },
      "source": [
        "***ch01/sin_graph.py***  "
      ]
    },
    {
      "cell_type": "code",
      "execution_count": null,
      "metadata": {},
      "outputs": [],
      "source": [
        "# !uv add matplotlib"
      ]
    },
    {
      "cell_type": "code",
      "execution_count": null,
      "metadata": {},
      "outputs": [
        {
          "name": "stdout",
          "output_type": "stream",
          "text": [
            "파악하기 : [0 1 2 3]\n",
            "파악하기 : [1 2 3]\n",
            "파악하기 : [ 1  4  7 10 13 16 19]\n",
            "파악하기 : [ 30  27  24  21  18  15  12   9   6   3   0  -3  -6  -9 -12 -15 -18]\n",
            "\n",
            "\n",
            "[0.  0.1 0.2 0.3 0.4 0.5 0.6 0.7 0.8 0.9 1.  1.1 1.2 1.3 1.4 1.5 1.6 1.7\n",
            " 1.8 1.9 2.  2.1 2.2 2.3 2.4 2.5 2.6 2.7 2.8 2.9 3.  3.1 3.2 3.3 3.4 3.5\n",
            " 3.6 3.7 3.8 3.9 4.  4.1 4.2 4.3 4.4 4.5 4.6 4.7 4.8 4.9 5.  5.1 5.2 5.3\n",
            " 5.4 5.5 5.6 5.7 5.8 5.9]\n"
          ]
        }
      ],
      "source": [
        "import numpy as np\n",
        "\n",
        "# np.arange(시작점(생략 시 0), 끝점(끝점 값은 미포함), step size(생략 시 1))\n",
        "x1 = np.arange(4)\n",
        "print(f\"파악하기 : {x1}\")\n",
        "\n",
        "x2 = np.arange(1, 4)\n",
        "print(f\"파악하기 : {x2}\")\n",
        "\n",
        "x3 = np.arange(1, 20, 3)\n",
        "print(f\"파악하기 : {x3}\")\n",
        "\n",
        "x4 = np.arange(30, -20, -3)\n",
        "print(f\"파악하기 : {x4}\")\n",
        "\n",
        "# -------------------------------------\n",
        "\n",
        "x = np.arange(0, 6, 0.1)  # 0에서 6까지 0.1 간격으로 값 생성 (배열 반환)\n",
        "print(f\"\\n\\n{x}\")"
      ]
    },
    {
      "cell_type": "code",
      "execution_count": null,
      "metadata": {},
      "outputs": [
        {
          "name": "stdout",
          "output_type": "stream",
          "text": [
            "[ 0.          0.09983342  0.19866933  0.29552021  0.38941834  0.47942554\n",
            "  0.56464247  0.64421769  0.71735609  0.78332691  0.84147098  0.89120736\n",
            "  0.93203909  0.96355819  0.98544973  0.99749499  0.9995736   0.99166481\n",
            "  0.97384763  0.94630009  0.90929743  0.86320937  0.8084964   0.74570521\n",
            "  0.67546318  0.59847214  0.51550137  0.42737988  0.33498815  0.23924933\n",
            "  0.14112001  0.04158066 -0.05837414 -0.15774569 -0.2555411  -0.35078323\n",
            " -0.44252044 -0.52983614 -0.61185789 -0.68776616 -0.7568025  -0.81827711\n",
            " -0.87157577 -0.91616594 -0.95160207 -0.97753012 -0.993691   -0.99992326\n",
            " -0.99616461 -0.98245261 -0.95892427 -0.92581468 -0.88345466 -0.83226744\n",
            " -0.77276449 -0.70554033 -0.63126664 -0.55068554 -0.46460218 -0.37387666]\n"
          ]
        }
      ],
      "source": [
        "y = np.sin(x)  # x라는 배열의 값마다 sin radian방식으로 계산\n",
        "print(y)"
      ]
    },
    {
      "cell_type": "code",
      "execution_count": null,
      "metadata": {
        "colab": {
          "base_uri": "https://localhost:8080/",
          "height": 430
        },
        "id": "GDsnaLK3wFUD",
        "outputId": "cfac4311-8f31-4835-928b-06c5cbde1681"
      },
      "outputs": [
        {
          "data": {
            "image/png": "[encoded data removed]",
            "text/plain": [
              "<Figure size 640x480 with 1 Axes>"
            ]
          },
          "metadata": {},
          "output_type": "display_data"
        }
      ],
      "source": [
        "import numpy as np\n",
        "import matplotlib.pyplot as plt  # pyplot 스타일을 사용하겠습니다.\n",
        "\n",
        "# 데이터 준비\n",
        "x = np.arange(0, 6, 0.1)  # 0에서 6까지 0.1 간격으로 값 생성 (배열 반환)\n",
        "y = np.sin(x)  # x라는 배열의 값마다 sin radian방식으로 계산\n",
        "\n",
        "# 그래프 그리기\n",
        "plt.plot(x, y)  # 그래프의 x축과 y축을 정의\n",
        "plt.show()  # 그래프를 보여줘"
      ]
    },
    {
      "cell_type": "markdown",
      "metadata": {
        "id": "gTXCJJNgINii"
      },
      "source": [
        "### 1.6.2 pyplot의 기능  "
      ]
    },
    {
      "cell_type": "markdown",
      "metadata": {
        "id": "lBaIVRi7wimD"
      },
      "source": [
        "***ch01/sin_cos_graph.py***  "
      ]
    },
    {
      "cell_type": "code",
      "execution_count": null,
      "metadata": {
        "colab": {
          "base_uri": "https://localhost:8080/",
          "height": 472
        },
        "id": "51OFHi_lwl7z",
        "outputId": "a606771f-a8dc-4214-b32e-0f0502fca12b"
      },
      "outputs": [
        {
          "data": {
            "image/png": "[encoded data removed]",
            "text/plain": [
              "<Figure size 200x200 with 1 Axes>"
            ]
          },
          "metadata": {},
          "output_type": "display_data"
        }
      ],
      "source": [
        "import numpy as np\n",
        "import matplotlib.pyplot as plt  # pyplot 스타일을 사용하겠습니다.\n",
        "\n",
        "# 데이터 준비\n",
        "x = np.arange(0, 6, 0.1)  # 0에서 6까지 0.1 간격으로 값 생성 (배열 반환)\n",
        "y1 = np.sin(x)  # x라는 배열의 값마다 sin radian방식으로 계산\n",
        "y2 = np.cos(x)  # x라는 배열의 값마다 cos radian방식으로 계산\n",
        "\n",
        "# 그래프 그리기\n",
        "plt.plot(x, y1, label=\"sin\")\n",
        "# x 배열과 y1 배열의 각각 인덱스별로 그려라\n",
        "\n",
        "plt.plot(x, y2, linestyle=\"--\", label=\"cos\")\n",
        "# x 배열과 y2 배열의 각각 인덱스별로 그려라\n",
        "# cos 함수는 점선으로 그리기\n",
        "\n",
        "plt.xlabel(\"x\")  # x축 이름\n",
        "plt.ylabel(\"y\")  # y축 이름\n",
        "plt.title(\"sin & cos\")  # 제목\n",
        "plt.legend()  # 그래프 좌측 하단에 범례 추가하기\n",
        "plt.show()  # 그래프를 보여줘"
      ]
    },
    {
      "cell_type": "markdown",
      "metadata": {
        "id": "3NiZEZTnISiv"
      },
      "source": [
        "### 1.6.3 이미지 표시하기  "
      ]
    },
    {
      "cell_type": "markdown",
      "metadata": {
        "id": "yediOLchwsEB"
      },
      "source": [
        "***ch01/img_show.py***  "
      ]
    },
    {
      "cell_type": "code",
      "execution_count": 43,
      "metadata": {
        "colab": {
          "base_uri": "https://localhost:8080/",
          "height": 435
        },
        "id": "xhhg-H8OwuZB",
        "outputId": "5213794e-009a-4341-8f49-b0effb840336"
      },
      "outputs": [
        {
          "data": {
            "text/plain": [
              "<matplotlib.image.AxesImage at 0x114f91bd0>"
            ]
          },
          "execution_count": 43,
          "metadata": {},
          "output_type": "execute_result"
        },
        {
          "data": {
            "image/png": "[encoded data removed]",
            "text/plain": [
              "<Figure size 200x200 with 1 Axes>"
            ]
          },
          "metadata": {},
          "output_type": "display_data"
        }
      ],
      "source": [
        "# [노트] 맷플롯립의 imread() 메서드는 URL을 직접 처리하지 못하고,\n",
        "# 로컬 파일 경로에서 이미지를 가져오는 기능만 지원합니다.\n",
        "# 따라서 이 코드는 책 본문과 달리, urllib 라이브러리를 사용하여\n",
        "# 깃허브상의 이미지를 다운로드한 후 불러오도록 했습니다.\n",
        "\n",
        "import matplotlib.pyplot as plt\n",
        "from matplotlib.image import imread  # 이미지를 읽어올 수 있음.\n",
        "\n",
        "# import matplotlib.image as mpimg\n",
        "import urllib.request  # 특정 url에 요청을 넣을 수 있음.\n",
        "\n",
        "# 이미지가 존재하는 URL\n",
        "# url = \"https://github.com/WegraLee/deep-learning-from-scratch/blob/master/dataset/cactus.png?raw=true\"\n",
        "\n",
        "# 위 URL에서 이미지 다운로드 / 다운로드 할 이미지 이름은 \"downloaded_image.png\"로 한다.\n",
        "# urllib.request.urlretrieve(url, \"downloaded_image.png\")\n",
        "\n",
        "# 특정 경로에 존재 또는 다운로드한 이미지 읽어오기\n",
        "img = imread(\"practice_image/downloaded_image.jpg\")\n",
        "\n",
        "plt.imshow(img)  # 이미지 보여줘\n",
        "# plt.show()"
      ]
    },
    {
      "cell_type": "markdown",
      "metadata": {},
      "source": [
        "<br><br><br>\n",
        "\n",
        "---\n",
        "\n",
        "## Chapter 1 끝  "
      ]
    }
  ],
  "metadata": {
    "colab": {
      "provenance": [],
      "toc_visible": true
    },
    "kernelspec": {
      "display_name": "learn-deeplearning (3.13.5)",
      "language": "python",
      "name": "python3"
    },
    "language_info": {
      "codemirror_mode": {
        "name": "ipython",
        "version": 3
      },
      "file_extension": ".py",
      "mimetype": "text/x-python",
      "name": "python",
      "nbconvert_exporter": "python",
      "pygments_lexer": "ipython3",
      "version": "3.13.5"
    }
  },
  "nbformat": 4,
  "nbformat_minor": 0
}
