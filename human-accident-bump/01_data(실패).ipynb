{
 "cells": [
  {
   "cell_type": "markdown",
   "id": "58adcc8a",
   "metadata": {},
   "source": [
    "## 🟢 1. 데이터 불어오기  \n",
    "- 이미지 = 싱글 이미지  \n",
    "- 라벨 = 제이슨  "
   ]
  },
  {
   "cell_type": "markdown",
   "id": "c3267128",
   "metadata": {},
   "source": [
    "### 🟡 1. 원천데이터 경로 (1개 데이터)  \n",
    "D:\\078.스마트 제조 시설 안전 감시를 위한 데이터\\3.개방데이터\\1.데이터\\Validation\\01.원천데이터\\VS\\human-accident\\bump\\rgb\\human-accident_bump_rgb_0001_cctv1  \n",
    "\n",
    "human-accident_bump_rgb_0001_cctv1_01.png  \n",
    "\n",
    "\n",
    "### 🟡 2. 라벨링데이터 경로 (1개 데이터)  \n",
    "D:\\078.스마트 제조 시설 안전 감시를 위한 데이터\\3.개방데이터\\1.데이터\\Validation\\02.라벨링데이터\\VL\\human-accident\\bump\\rgb\\human-accident_bump_rgb_0001_cctv1  \n",
    "\n",
    "human-accident_bump_rgb_0001_cctv1_01.json  \n",
    "\n"
   ]
  },
  {
   "cell_type": "markdown",
   "id": "63bec256",
   "metadata": {},
   "source": [
    "<br><br>\n",
    "\n",
    "### 🟡 https://hellojason.tistory.com/21  \n",
    "\n",
    "- 라벨 데이터 읽기: 라벨 데이터의 경로를 찾아 불러와서 확인  \n",
    "- 이미지 데이터 읽기: 라벨 데이터와 같은 이름의 이미지 경로를 찾아 불러와서 확인  \n",
    "- 이미지 데이터 속성 파악: 이미지 데이터를 읽어 가로(width), 세로(height) 확인  \n",
    "- 라벨 데이터 속성 파악: 주어진 라벨 데이터는 바운딩 박스의 좌상단 정규화 좌표와 우하단 좌표의 정규화 좌표로 되어 있음을 확인  \n",
    "- 바운딩 박스 draw: 라벨 데이터 내 바운딩 박스의 좌표를 읽어 이미지 내 draw  "
   ]
  },
  {
   "cell_type": "code",
   "execution_count": null,
   "id": "624a4041",
   "metadata": {},
   "outputs": [
    {
     "name": "stdout",
     "output_type": "stream",
     "text": [
      "gb\\human-accident_bump_rgb_0001_cctv1\\human-accident_bump_rgb_0001_cctv1_01.json\n",
      "gb\\human-accident_bump_rgb_0001_cctv1\\human-accident_bump_rgb_0001_cctv1_01.png\n",
      "esult스마트 제조 시설 안전 감시를 위한 데이터\n"
     ]
    }
   ],
   "source": [
    "import glob, os\n",
    "from PIL import Image, ImageDraw, ImageFont\n",
    "\n",
    "# 검출할 클래스 정보 리스트\n",
    "# class_idx = [\"person\", \"car\", \"taxi\", \"truck\", \"bus\", \"tricycle\", \"motorcycle\"]\n",
    "\n",
    "# 데이터 경로 지정\n",
    "# label_folder = f\"/labels\"\n",
    "# image_folder = f\"/images\"\n",
    "# result_folder = f\"/results\"\n",
    "\n",
    "# label_folder = \"D:\\078.스마트 제조 시설 안전 감시를 위한 데이터\\3.개방데이터\\1.데이터\\Validation\\02.라벨링데이터\\VL\\human-accident\\bump\\rgb\\human-accident_bump_rgb_0001_cctv1\\human-accident_bump_rgb_0001_cctv1_01.json\"\n",
    "# image_folder = \"D:\\078.스마트 제조 시설 안전 감시를 위한 데이터\\3.개방데이터\\1.데이터\\Validation\\01.원천데이터\\VS\\human-accident\\bump\\rgb\\human-accident_bump_rgb_0001_cctv1\\human-accident_bump_rgb_0001_cctv1_01.png\"\n",
    "# result_folder = \"D:\\078.스마트 제조 시설 안전 감시를 위한 데이터\\result\"\n",
    "\n",
    "# print(f\"{label_folder}\")\n",
    "# print(f\"{image_folder}\")\n",
    "# print(f\"{result_folder}\")\n",
    "\n",
    "label_folder = \"D:\\078.스마트 제조 시설 안전 감시를 위한 데이터\\3.개방데이터\\1.데이터\\Validation\\02.라벨링데이터\\VL\\human-accident\\bump\\rgb\\human-accident_bump_rgb_0001_cctv1\\human-accident_bump_rgb_0001_cctv1_01.json\"\n",
    "image_folder = \"\"\n",
    "result_folder = \"D:\\078.스마트 제조 시설 안전 감시를 위한 데이터\\result\"\n",
    "\n",
    "print(f\"{label_folder}\")\n",
    "print(f\"{image_folder}\")\n",
    "print(f\"{result_folder}\")"
   ]
  },
  {
   "cell_type": "code",
   "execution_count": null,
   "id": "5fcc1e6d",
   "metadata": {},
   "outputs": [],
   "source": []
  },
  {
   "cell_type": "code",
   "execution_count": null,
   "id": "65b26342",
   "metadata": {},
   "outputs": [],
   "source": [
    "# 라벨 데이터 속성 확인\n",
    "# 라벨 데이터와 각각 매칭되는 이미지 데이터를 함께 불러와 BoundingBox 정화 확인 후 시각화 후 저장\n",
    "# Bounding Box 표시된 이미지 결과 생성\n",
    "\n",
    "count = 0  # 현재 몇개의 데이터를 처리하는 지 count하는 변수 선언\n",
    "\n",
    "for label_file in label_list:\n",
    "\n",
    "    name = label_file.split(\"/\")[\n",
    "        -1\n",
    "    ]  # 각 라벨 데이터와 매칭되는 이미지 데이터의 이름을 확인하기 위해 현재 라벨데이터의 이름 문자열 parsing\n",
    "    image_name = image_folder + \"/\" + name.replace(\"txt\", \"jpg\")\n",
    "    write_image_name = (\n",
    "        result_folder + \"/\" + name.replace(\"txt\", \"jpg\")\n",
    "    )  # 바운딩 박스를 그린 후 결과를 이미지 형태로 저장할 때 원래 데이터 파일명과 동일하게 저장\n",
    "\n",
    "    img = Image.open(image_name).convert(\"RGB\")\n",
    "    w, h = img.size  # 이미지의 가로와 세로 길이 추출\n",
    "\n",
    "    with open(\n",
    "        label_file, \"r\"\n",
    "    ) as f:  # 라벨 데이터 읽기 (with ~ as 구문 사용시 f.close() 부분은 생략 가능함)\n",
    "        lines = f.read().splitlines()\n",
    "\n",
    "    for line in lines:\n",
    "        cls_idx, xmin, ymin, xmax, ymax = line.split(\n",
    "            \" \"\n",
    "        )  # 각 라벨 파일은 클래스 정보, 바운딩박스의 좌상단 x,y, 우하단 x,y 의 정규화된 좌표가 각 줄마다 적혀있으며, 각 정보는 띄어쓰기로 구분되어 있음\n",
    "\n",
    "        xmin, ymin, xmax, ymax = map(\n",
    "            float, [xmin, ymin, xmax, ymax]\n",
    "        )  # 클래스 정보를 제외한 모든 좌표의 값은 float 형태로 변환\n",
    "\n",
    "        # 라벨 데이터의 바운딩박스 정보들은 0과 1사이의 값으로 정규화되어 있기 때문에 위에서 획득한 이미지의 가로,세로 정보를 활용하여 실제 좌표값으로 변환\n",
    "        xmin *= w\n",
    "        ymin *= h\n",
    "        xmax *= w\n",
    "        ymax *= h\n",
    "        cls_name = class_idx[\n",
    "            int(cls_idx)\n",
    "        ]  # 클래스 정보 (이름)는 0부터 시작하는 클래스 인덱스 값으로 획득 가능\n",
    "\n",
    "        # 이미지 위에 rectangle 함수를 이용하여 (좌상단 좌표, 우하단 좌표)로 그린 후, 클래스 정보를 함께 표기\n",
    "        draw = ImageDraw.Draw(img)\n",
    "        draw.rectangle((xmin, ymin, xmax, ymax), outline=(0, 255, 0), width=3)\n",
    "        draw.text((xmin, ymin - 10), cls_name, (255, 0, 255))\n",
    "\n",
    "    # 이미지위에 모든 객체의 바운딩 박스를 그려 위에서 정의한 경로에 저장\n",
    "    img.save(write_image_name)\n",
    "    count += 1\n",
    "    print(\n",
    "        \"%d images / total %d images processed\" % (count, len(image_list))\n",
    "    )  # 이미지 처리 프로세스 현황 출력\n",
    "\n",
    "    f.close()  # optional (with ~ as 구문으로 파일을 열었기에 반드시 필요한 부분은 아님)"
   ]
  }
 ],
 "metadata": {
  "kernelspec": {
   "display_name": "learn-deeplearning",
   "language": "python",
   "name": "python3"
  },
  "language_info": {
   "codemirror_mode": {
    "name": "ipython",
    "version": 3
   },
   "file_extension": ".py",
   "mimetype": "text/x-python",
   "name": "python",
   "nbconvert_exporter": "python",
   "pygments_lexer": "ipython3",
   "version": "3.11.9"
  }
 },
 "nbformat": 4,
 "nbformat_minor": 5
}
