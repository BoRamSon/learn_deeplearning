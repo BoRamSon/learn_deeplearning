{
 "cells": [
  {
   "cell_type": "markdown",
   "metadata": {
    "id": "3p32oEbJO4XE"
   },
   "source": [
    "<br><br>\n",
    "\n",
    "---\n",
    "\n",
    "## 🟢 3.3 다차원 배열의 계산  "
   ]
  },
  {
   "cell_type": "markdown",
   "metadata": {
    "id": "SstZiY2KO6w3"
   },
   "source": [
    "### 🟡 3.3.1 다차원 배열  "
   ]
  },
  {
   "cell_type": "code",
   "execution_count": 110,
   "metadata": {
    "colab": {
     "base_uri": "https://localhost:8080/"
    },
    "id": "b2HsHxQuO8WV",
    "outputId": "6af88413-4a0f-4832-cd01-9487696c5624"
   },
   "outputs": [
    {
     "name": "stdout",
     "output_type": "stream",
     "text": [
      "[1 2 3 4]\n"
     ]
    }
   ],
   "source": [
    "import numpy as np\n",
    "\n",
    "A = np.array([1, 2, 3, 4])  # A라는 넘파이 배열\n",
    "print(A)"
   ]
  },
  {
   "cell_type": "code",
   "execution_count": 111,
   "metadata": {
    "colab": {
     "base_uri": "https://localhost:8080/"
    },
    "id": "AJPwMB-9PBB1",
    "outputId": "ed92bbca-a3d5-4e76-9e32-bb8b17eabcf8"
   },
   "outputs": [
    {
     "data": {
      "text/plain": [
       "1"
      ]
     },
     "execution_count": 111,
     "metadata": {},
     "output_type": "execute_result"
    }
   ],
   "source": [
    "np.ndim(A)  # A라는 넘파이 배열의 차원이 몇 차원인지 알 수 있음"
   ]
  },
  {
   "cell_type": "code",
   "execution_count": 112,
   "metadata": {
    "colab": {
     "base_uri": "https://localhost:8080/"
    },
    "id": "mKt8N-LfPDI-",
    "outputId": "c752fc42-2923-4dd4-c4e2-08951fed5864"
   },
   "outputs": [
    {
     "data": {
      "text/plain": [
       "(4,)"
      ]
     },
     "execution_count": 112,
     "metadata": {},
     "output_type": "execute_result"
    }
   ],
   "source": [
    "A.shape  # A라는 넘파이 배열의 행렬갯수를 나타냄"
   ]
  },
  {
   "cell_type": "code",
   "execution_count": 113,
   "metadata": {
    "colab": {
     "base_uri": "https://localhost:8080/"
    },
    "id": "aMu9h0SgPE5_",
    "outputId": "ec63310c-dbda-4c7b-d11b-14fc139567f7"
   },
   "outputs": [
    {
     "data": {
      "text/plain": [
       "4"
      ]
     },
     "execution_count": 113,
     "metadata": {},
     "output_type": "execute_result"
    }
   ],
   "source": [
    "A.shape[0]  # A라는 넘파이 배열의 행에 대한 갯구를 나타맨"
   ]
  },
  {
   "cell_type": "code",
   "execution_count": 114,
   "metadata": {
    "colab": {
     "base_uri": "https://localhost:8080/"
    },
    "id": "5_iAZixJPKPW",
    "outputId": "42bb58e2-9d4a-45c8-9fd8-73fd909f9485"
   },
   "outputs": [],
   "source": [
    "B = np.array([[1, 2], [3, 4], [5, 6]])  # B라는 2차원 넘파이 배열을 만듬print(B)"
   ]
  },
  {
   "cell_type": "code",
   "execution_count": 115,
   "metadata": {
    "colab": {
     "base_uri": "https://localhost:8080/"
    },
    "id": "iq-cm9QpPP7f",
    "outputId": "3a13e475-610c-4cc2-ea31-e37f463fdc7b"
   },
   "outputs": [
    {
     "data": {
      "text/plain": [
       "2"
      ]
     },
     "execution_count": 115,
     "metadata": {},
     "output_type": "execute_result"
    }
   ],
   "source": [
    "np.ndim(B)  # B라는 넘파이 배열이 몇 차원인지 알려준다."
   ]
  },
  {
   "cell_type": "code",
   "execution_count": 116,
   "metadata": {
    "colab": {
     "base_uri": "https://localhost:8080/"
    },
    "id": "tV1yDlXGPSOd",
    "outputId": "1ae921b3-a64f-4f18-ce43-4dc65f25c153"
   },
   "outputs": [
    {
     "data": {
      "text/plain": [
       "(3, 2)"
      ]
     },
     "execution_count": 116,
     "metadata": {},
     "output_type": "execute_result"
    }
   ],
   "source": [
    "B.shape  # B라는 넘파이 배열의 형태(행렬를 갯수)를 알 수 있다."
   ]
  },
  {
   "cell_type": "markdown",
   "metadata": {
    "id": "aCe0Z1nhPU7d"
   },
   "source": [
    "### 🟡 3.3.2 행렬의 곱  \n",
    "\n",
    "- 기본적으로 2개의 input을 받음. (2개 이상 시 복잡해짐)  \n",
    "- 양쪽 array의 원소 개수가 불일치한다면, ValueError가 발생한다. 고차원의 dot 연산에서도 곱할 element의 원소 개수가 일치하는지 꼭 체크하기.  \n",
    "\n",
    "- 1차원 넘파이 배열을 행렬곱 예시  \n",
    "    - <img src=\"image_ch03/1차원_배열_행렬곱.png\" alt=\"행렬곱\" width=\"30%\">  \n",
    "\n",
    "- 2차원 넘파이 배열을 행렬곱 예시  \n",
    "    - <img src=\"image_ch03/2차원_배열_행렬곱.png\" alt=\"행렬곱\" width=\"30%\">  "
   ]
  },
  {
   "cell_type": "markdown",
   "metadata": {},
   "source": [
    "<br>\n",
    "\n",
    "#### ⚫ 예제1 - 행렬곱  \n",
    "- 같은 차원, 같은 형태  "
   ]
  },
  {
   "cell_type": "code",
   "execution_count": 117,
   "metadata": {
    "colab": {
     "base_uri": "https://localhost:8080/"
    },
    "id": "m3ApzqgQPW4e",
    "outputId": "29dde29b-5f49-459f-be51-b4765e1e970b"
   },
   "outputs": [
    {
     "data": {
      "text/plain": [
       "(2, 2)"
      ]
     },
     "execution_count": 117,
     "metadata": {},
     "output_type": "execute_result"
    }
   ],
   "source": [
    "A = np.array([[1, 2], [3, 4]])  # A라는 2차원 넘파이 배열\n",
    "A.shape  # A라는 넘파이 배열을 형태(행,렬)을 나타냄 = (2, 2)"
   ]
  },
  {
   "cell_type": "code",
   "execution_count": 118,
   "metadata": {
    "colab": {
     "base_uri": "https://localhost:8080/"
    },
    "id": "GOrh_LMTPeZd",
    "outputId": "2dc919a5-5d07-44f2-e83f-184cbf8b8ef0"
   },
   "outputs": [
    {
     "data": {
      "text/plain": [
       "(2, 2)"
      ]
     },
     "execution_count": 118,
     "metadata": {},
     "output_type": "execute_result"
    }
   ],
   "source": [
    "B = np.array([[5, 6], [7, 8]])  # B라는 2차원 넘파이 배열\n",
    "B.shape  # B라는 넘파이 배열을 형태(행,렬)을 나타냄 = (2, 2)"
   ]
  },
  {
   "cell_type": "code",
   "execution_count": 119,
   "metadata": {
    "colab": {
     "base_uri": "https://localhost:8080/"
    },
    "id": "Zbo0racePiNJ",
    "outputId": "55cbc21e-f250-4740-cf8d-f03990d85197"
   },
   "outputs": [
    {
     "data": {
      "text/plain": [
       "array([[19, 22],\n",
       "       [43, 50]])"
      ]
     },
     "execution_count": 119,
     "metadata": {},
     "output_type": "execute_result"
    }
   ],
   "source": [
    "np.dot(A, B)\n",
    "# shape가 같은 A라는 2차원 넘파일 배열과 B라는 2차원 넘파이 배열을 곱한다."
   ]
  },
  {
   "cell_type": "markdown",
   "metadata": {},
   "source": [
    "#### 🔥 알아두기  \n",
    "- np.dot(A, B)와 np.dot(B, A) 는 다른 값이 될 수 있다는 점.  \n",
    "- 행렬의 곱에서는 피연산자의 순서가 다르면 결과도 다름.  \n"
   ]
  },
  {
   "cell_type": "markdown",
   "metadata": {},
   "source": [
    "<br>\n",
    "\n",
    "#### ⚫ 예제2 - 행렬곱  \n",
    "- 계산이 가능하려면 `앞자리 행렬의 열 갯수`과 `뒷자리 행렬의 행 갯수`가 같아야 한다.  \n"
   ]
  },
  {
   "cell_type": "code",
   "execution_count": 120,
   "metadata": {
    "colab": {
     "base_uri": "https://localhost:8080/"
    },
    "id": "mq28WrIYPmB-",
    "outputId": "cea30c96-1922-41dd-f320-fee090ea4e68"
   },
   "outputs": [
    {
     "name": "stdout",
     "output_type": "stream",
     "text": [
      "차원 : 2차원\n",
      "형태 : 2행, 3열\n"
     ]
    }
   ],
   "source": [
    "A = np.array([[1, 2, 3], [4, 5, 6]])  # A라는 (2, 3) 행렬\n",
    "print(f\"차원 : {A.ndim}차원\")\n",
    "print(f\"형태 : {A.shape[0]}행, {A.shape[1]}열\")"
   ]
  },
  {
   "cell_type": "code",
   "execution_count": 121,
   "metadata": {
    "colab": {
     "base_uri": "https://localhost:8080/"
    },
    "id": "QoCJf2hLPrMH",
    "outputId": "9b7fb947-a94b-4fc1-86c4-4069602481f9"
   },
   "outputs": [
    {
     "name": "stdout",
     "output_type": "stream",
     "text": [
      "차원 : 2차원\n",
      "형태 : 3행, 2열\n"
     ]
    }
   ],
   "source": [
    "B = np.array([[1, 2], [3, 4], [5, 6]])  # B라는 (3, 2) 행렬\n",
    "print(f\"차원 : {B.ndim}차원\")\n",
    "print(f\"형태 : {B.shape[0]}행, {B.shape[1]}열\")"
   ]
  },
  {
   "cell_type": "code",
   "execution_count": 122,
   "metadata": {
    "colab": {
     "base_uri": "https://localhost:8080/"
    },
    "id": "IjGb0aHrPvo3",
    "outputId": "f90d90bb-4dbe-4ae2-b204-a528bcfbeca7"
   },
   "outputs": [
    {
     "data": {
      "text/plain": [
       "array([[22, 28],\n",
       "       [49, 64]])"
      ]
     },
     "execution_count": 122,
     "metadata": {},
     "output_type": "execute_result"
    }
   ],
   "source": [
    "# A의 열이 3이고, B의 행이 3이기 때문에 행렬 곱하기 계산이 가능하다.\n",
    "np.dot(A, B)  # A 행렬과 B 행렬 곱하기"
   ]
  },
  {
   "cell_type": "code",
   "execution_count": 123,
   "metadata": {
    "colab": {
     "base_uri": "https://localhost:8080/"
    },
    "id": "y22brW7jPzO-",
    "outputId": "8128e80b-a2dc-4c66-c9c2-3be89e0c1cf3"
   },
   "outputs": [
    {
     "data": {
      "text/plain": [
       "(2, 2)"
      ]
     },
     "execution_count": 123,
     "metadata": {},
     "output_type": "execute_result"
    }
   ],
   "source": [
    "# 만약에 C라는 행렬이 있다고 가정해보자!\n",
    "C = np.array([[1, 2], [3, 4]])  # C라는 (2,2) 행렬\n",
    "C.shape"
   ]
  },
  {
   "cell_type": "code",
   "execution_count": 124,
   "metadata": {
    "colab": {
     "base_uri": "https://localhost:8080/"
    },
    "id": "kBCdvntrP21n",
    "outputId": "8afe5dab-8a43-47e7-9e63-c24007acdb73"
   },
   "outputs": [
    {
     "data": {
      "text/plain": [
       "(2, 3)"
      ]
     },
     "execution_count": 124,
     "metadata": {},
     "output_type": "execute_result"
    }
   ],
   "source": [
    "A.shape  # A 행렬과 계산이 가능할까???"
   ]
  },
  {
   "cell_type": "code",
   "execution_count": 125,
   "metadata": {
    "id": "8ewVYheOP4jx"
   },
   "outputs": [],
   "source": [
    "# 다음 코드는 아래 주석을 풀어 실행하면 ValueError를 일으킵니다.\n",
    "# np.dot(A, C)  # A행렬 (2,3)과 C행렬 (2,2)를 계산할 수 없습니다. 에러가 납니다.\n",
    "# 결과: ValueError: shapes (2,3) and (2,2) not aligned: 3 (dim 1) ! = 2 (dim 0)\n",
    "\n",
    "# 계산을 하지 못하는 이유는 ⤵️"
   ]
  },
  {
   "cell_type": "markdown",
   "metadata": {},
   "source": [
    "- A행렬 (2,3)과 C행렬 (2,2)를 계산할 수 없는 이유는???  \n",
    "    - 🔥 다차원 배열을 곱하려면 두 (행, 렬)의 대응하는 차원의 원소 수를 일치시켜야 합니다.  \n",
    "        - <img src=\"image_ch03/차원_원소_수_일치1.png\" alt=\"행렬곱\" width=\"30%\">  \n",
    "        - <img src=\"image_ch03/차원_원소_수_일치2.png\" alt=\"행렬곱\" width=\"50%\">  "
   ]
  },
  {
   "cell_type": "markdown",
   "metadata": {},
   "source": [
    "<br>\n",
    "\n",
    "#### ⚫ 예제3 - 행렬곱  \n"
   ]
  },
  {
   "cell_type": "code",
   "execution_count": 126,
   "metadata": {
    "colab": {
     "base_uri": "https://localhost:8080/"
    },
    "id": "6BmsXUbvP_Ip",
    "outputId": "6d6e5992-a650-47a2-b5ef-ccfd3ad88854"
   },
   "outputs": [
    {
     "data": {
      "text/plain": [
       "(3, 2)"
      ]
     },
     "execution_count": 126,
     "metadata": {},
     "output_type": "execute_result"
    }
   ],
   "source": [
    "import numpy as np\n",
    "\n",
    "A = np.array([[1, 2], [3, 4], [5, 6]])  # A라는 (3,2) 행렬\n",
    "A.shape"
   ]
  },
  {
   "cell_type": "code",
   "execution_count": 127,
   "metadata": {
    "colab": {
     "base_uri": "https://localhost:8080/"
    },
    "id": "JFW6SWokQECP",
    "outputId": "32f0044b-e49f-400b-c71c-1114cdf5819d"
   },
   "outputs": [
    {
     "data": {
      "text/plain": [
       "(2,)"
      ]
     },
     "execution_count": 127,
     "metadata": {},
     "output_type": "execute_result"
    }
   ],
   "source": [
    "B = np.array([7, 8])  # B라는 1차원 넘파이 행렬 (Transposit 한다.)\n",
    "B.shape  # Transposit으로 2행이라고 생각한다."
   ]
  },
  {
   "cell_type": "code",
   "execution_count": 128,
   "metadata": {
    "colab": {
     "base_uri": "https://localhost:8080/"
    },
    "id": "RawuTG0KQIUG",
    "outputId": "375cf130-d070-41d4-9d9a-3003ce256e7f"
   },
   "outputs": [
    {
     "data": {
      "text/plain": [
       "array([23, 53, 83])"
      ]
     },
     "execution_count": 128,
     "metadata": {},
     "output_type": "execute_result"
    }
   ],
   "source": [
    "np.dot(A, B)  # 계산 가능\n",
    "# 1 * 7 + 2 * 8 = 23\n",
    "# 3 * 7 + 4 * 8 = 53\n",
    "# 5 * 7 + 6 * 8 = 83\n",
    "# [[23], [53], [83]] => Transposit => [23, 53, 83]"
   ]
  },
  {
   "cell_type": "markdown",
   "metadata": {
    "id": "R70STUmlQORi"
   },
   "source": [
    "<br>\n",
    "\n",
    "### 🟡 3.3.3 신경망에서의 행렬 곱  "
   ]
  },
  {
   "cell_type": "code",
   "execution_count": 129,
   "metadata": {
    "colab": {
     "base_uri": "https://localhost:8080/"
    },
    "id": "05bKP8EsQQbJ",
    "outputId": "c7a006bb-d9ba-463a-b81c-fbed13ce3b41"
   },
   "outputs": [
    {
     "data": {
      "text/plain": [
       "(2,)"
      ]
     },
     "execution_count": 129,
     "metadata": {},
     "output_type": "execute_result"
    }
   ],
   "source": [
    "X = np.array([1, 2])  # X라는 1차원 넘파이 배열\n",
    "X.shape  # X라는 1차원 넘파이 배열은 (2,)이다."
   ]
  },
  {
   "cell_type": "code",
   "execution_count": 130,
   "metadata": {
    "colab": {
     "base_uri": "https://localhost:8080/"
    },
    "id": "gXi2u8GrQVNz",
    "outputId": "3dfbc23d-b087-49ea-ca04-b9d1bb4d3b46"
   },
   "outputs": [
    {
     "name": "stdout",
     "output_type": "stream",
     "text": [
      "[[1 3 5]\n",
      " [2 4 6]]\n"
     ]
    }
   ],
   "source": [
    "W = np.array([[1, 3, 5], [2, 4, 6]])  # W라는 2차원 넘파이 배열\n",
    "print(W)  # W라는 2차원 넘파이 배열 출력 확인"
   ]
  },
  {
   "cell_type": "code",
   "execution_count": 131,
   "metadata": {
    "colab": {
     "base_uri": "https://localhost:8080/"
    },
    "id": "YN2ctiKRQc6X",
    "outputId": "fba06595-1171-4fe4-d150-47db0734f8c4"
   },
   "outputs": [
    {
     "data": {
      "text/plain": [
       "(2, 3)"
      ]
     },
     "execution_count": 131,
     "metadata": {},
     "output_type": "execute_result"
    }
   ],
   "source": [
    "W.shape  # W라는 2차원 넘파이 배열은 (2, 3)이다."
   ]
  },
  {
   "cell_type": "code",
   "execution_count": 132,
   "metadata": {
    "colab": {
     "base_uri": "https://localhost:8080/"
    },
    "id": "bj20FRyRQe0C",
    "outputId": "aae8c388-762d-41b6-df00-b701eec63062"
   },
   "outputs": [
    {
     "name": "stdout",
     "output_type": "stream",
     "text": [
      "[ 5 11 17]\n"
     ]
    }
   ],
   "source": [
    "Y = np.dot(X, W)  # X(입력값)와 W(가중치) 곱하기\n",
    "print(Y)  # 결과값 출력"
   ]
  },
  {
   "cell_type": "markdown",
   "metadata": {
    "id": "6xpgKv_EQk34"
   },
   "source": [
    "<br><br>\n",
    "\n",
    "## 🟢 3.4. 3층 신경망 구현하기  "
   ]
  },
  {
   "cell_type": "markdown",
   "metadata": {
    "id": "_-7uv7lGQnAv"
   },
   "source": [
    "### 🟡 3.4.2. 각 층의 신호 전달 구현하기 (page 82~88)  "
   ]
  },
  {
   "cell_type": "markdown",
   "metadata": {},
   "source": [
    "- 입력값 >>> 가중치 >>> 편향  \n",
    "    - 기존 `x * w` 를 `행렬곱`으로 생각하면 이렇게 된다.  \n",
    "    - <img src=\"image_ch03/69_1층.png\" alt=\"신경망과정\" width=\"40%\">  \n",
    "- 선형대수 식으로 나타내고, Transposit 하기  \n",
    "    - <img src=\"image_ch03/70_행렬식으로바꾸기.png\" alt=\"신경망과정\" width=\"40%\">  \n",
    "    - <img src=\"image_ch03/71_입력층,가중치,편향.png\" alt=\"신경망과정\" width=\"40%\">  "
   ]
  },
  {
   "cell_type": "markdown",
   "metadata": {},
   "source": [
    "- `입력층`에서 `1층`으로 신호 전달  \n",
    "    - **sigmoid(입력값(x) * 가중치(w) + 편향(b))**  \n",
    "    - <img src=\"image_ch03/72_입력층-1층.png\" alt=\"신경망과정\" width=\"40%\">  "
   ]
  },
  {
   "cell_type": "code",
   "execution_count": 133,
   "metadata": {
    "colab": {
     "base_uri": "https://localhost:8080/"
    },
    "id": "4VobtONuQs6p",
    "outputId": "751ad5e1-8a48-4bb9-bbed-7e735722fa9a"
   },
   "outputs": [
    {
     "name": "stdout",
     "output_type": "stream",
     "text": [
      "(2, 3)\n"
     ]
    }
   ],
   "source": [
    "X = np.array([1.0, 0.5])  # 입력값 (1차원 넘파이 배열)\n",
    "W1 = np.array([[0.1, 0.3, 0.5], [0.2, 0.4, 0.6]])  # 가중치 (2차원 넘파이 배열)\n",
    "B1 = np.array([0.1, 0.2, 0.3])  # 편향 (1차원 넘파이 배열)\n",
    "\n",
    "print(W1.shape)  # (2, 3)"
   ]
  },
  {
   "cell_type": "code",
   "execution_count": 134,
   "metadata": {
    "colab": {
     "base_uri": "https://localhost:8080/"
    },
    "id": "qN8iKE2RQzfM",
    "outputId": "ad5621f2-20ea-49df-9a57-64ac051549b7"
   },
   "outputs": [
    {
     "name": "stdout",
     "output_type": "stream",
     "text": [
      "(2,)\n"
     ]
    }
   ],
   "source": [
    "print(X.shape)  # (2,)"
   ]
  },
  {
   "cell_type": "code",
   "execution_count": 135,
   "metadata": {
    "colab": {
     "base_uri": "https://localhost:8080/"
    },
    "id": "7FPLpb0kQ1rf",
    "outputId": "d8e4fc76-6dac-466e-b83b-2539960fa183"
   },
   "outputs": [
    {
     "name": "stdout",
     "output_type": "stream",
     "text": [
      "(3,)\n",
      "\n"
     ]
    }
   ],
   "source": [
    "print(B1.shape)  # (3,)"
   ]
  },
  {
   "cell_type": "code",
   "execution_count": 136,
   "metadata": {
    "id": "aXcDQrlbQ5hI"
   },
   "outputs": [],
   "source": [
    "A1 = np.dot(X, W1) + B1\n",
    "# 입력값 X(2,)와 가중치 W1(2,3)를 곱하는 것이 가능하기 때문에 곱해주면결 과를 1차원 넘파이 배열 (3,)이 나옴.\n",
    "# 여기에 자리수가 맞는 B1(편향)(3,)을 더해줌."
   ]
  },
  {
   "cell_type": "code",
   "execution_count": 137,
   "metadata": {
    "colab": {
     "base_uri": "https://localhost:8080/"
    },
    "id": "Sxu4c6nEQ8rn",
    "outputId": "bd7984eb-031d-498f-bc39-75da62b6c763"
   },
   "outputs": [
    {
     "name": "stdout",
     "output_type": "stream",
     "text": [
      "[0.3 0.7 1.1]\n"
     ]
    }
   ],
   "source": [
    "Z1 = sigmoid(A1)  # 입력값, 가중치, 편향이 계산된 결과값(3,)을 sigmoid 함수에 넣음.\n",
    "\n",
    "print(A1)  # [0.3, 0.7, 1.1]"
   ]
  },
  {
   "cell_type": "code",
   "execution_count": 138,
   "metadata": {
    "colab": {
     "base_uri": "https://localhost:8080/"
    },
    "id": "Ble9CSGWRAqC",
    "outputId": "9425e049-3bb6-4069-c71b-56fed4ca8793"
   },
   "outputs": [
    {
     "name": "stdout",
     "output_type": "stream",
     "text": [
      "[0.57444252 0.66818777 0.75026011]\n"
     ]
    }
   ],
   "source": [
    "print(Z1)  # 시그모이드 함수 결과값 = [0.57444252, 0.66818777, 0.75026011]"
   ]
  },
  {
   "cell_type": "markdown",
   "metadata": {},
   "source": [
    "Z1이라는 특정 노드는 다음 층으로 넘어가서 가중치와 편향으로 또 계산됨.  \n",
    "\n",
    "\n",
    "\n"
   ]
  },
  {
   "cell_type": "code",
   "execution_count": null,
   "metadata": {
    "colab": {
     "base_uri": "https://localhost:8080/"
    },
    "id": "7d0tmxZ8RDz2",
    "outputId": "4621729c-0210-4119-9614-6b420d15b573"
   },
   "outputs": [
    {
     "name": "stdout",
     "output_type": "stream",
     "text": [
      "(3,)\n"
     ]
    }
   ],
   "source": [
    "# Z1 shape (3,)\n",
    "\n",
    "W2 = np.array([[0.1, 0.4], [0.2, 0.5], [0.3, 0.6]])\n",
    "# 가중치 ((3,3)이기 때문에 Z1과 곱하기 가능)\n",
    "\n",
    "B2 = np.array([0.1, 0.2])  # B2(편향) 이라는 넘파이 배열\n",
    "\n",
    "print(Z1.shape)  # (3,)"
   ]
  },
  {
   "cell_type": "code",
   "execution_count": 140,
   "metadata": {
    "colab": {
     "base_uri": "https://localhost:8080/"
    },
    "id": "zWwJ8xlbRFmz",
    "outputId": "4ec28a6c-78a3-4e91-9a0f-b92bdbf8937c"
   },
   "outputs": [
    {
     "name": "stdout",
     "output_type": "stream",
     "text": [
      "(3, 2)\n",
      "\n"
     ]
    }
   ],
   "source": [
    "print(W2.shape)  # (3, 2)"
   ]
  },
  {
   "cell_type": "code",
   "execution_count": 141,
   "metadata": {
    "colab": {
     "base_uri": "https://localhost:8080/"
    },
    "id": "STqwVuZxRHsk",
    "outputId": "c36e0c9d-503b-48ac-bd05-0491016954d5"
   },
   "outputs": [
    {
     "name": "stdout",
     "output_type": "stream",
     "text": [
      "(2,)\n"
     ]
    }
   ],
   "source": [
    "print(B2.shape)  # (2,)"
   ]
  },
  {
   "cell_type": "code",
   "execution_count": null,
   "metadata": {
    "id": "PbaOXObdRJtk"
   },
   "outputs": [
    {
     "name": "stdout",
     "output_type": "stream",
     "text": [
      "A2: [0.51615984 1.21402696]\n"
     ]
    }
   ],
   "source": [
    "A2 = (\n",
    "    np.dot(Z1, W2) + B2\n",
    ")  # 입력층에서 계산된 Z1(3,)  *  다음층으로 가는 가중치 W2(3, 2) + B2(편향)\n",
    "print(f\"A2: {A2}\")"
   ]
  },
  {
   "cell_type": "code",
   "execution_count": 143,
   "metadata": {},
   "outputs": [
    {
     "name": "stdout",
     "output_type": "stream",
     "text": [
      "Z2: [0.62624937 0.7710107 ]\n"
     ]
    }
   ],
   "source": [
    "Z2 = sigmoid(A2)\n",
    "print(f\"Z2: {Z2}\")"
   ]
  },
  {
   "cell_type": "code",
   "execution_count": null,
   "metadata": {
    "id": "5QTi2xQORNHO"
   },
   "outputs": [],
   "source": [
    "def identity_function(x):  # 항등함수를 만듬\n",
    "    return x\n",
    "\n",
    "\n",
    "W3 = np.array([[0.1, 0.3], [0.2, 0.4]])\n",
    "B3 = np.array([0.1, 0.2])\n",
    "\n",
    "A3 = np.dot(Z2, W3) + B3\n",
    "Y = identity_function(A3)  # 혹은 Y = A3"
   ]
  },
  {
   "cell_type": "markdown",
   "metadata": {
    "id": "FJhSIBMRRRDm"
   },
   "source": [
    "<br>\n",
    "\n",
    "### 🟡 3.4.3 구현 정리  (page 89)  \n",
    "- 위에서 했던 구현을 다시 코드로 정리해봅시다.  \n",
    "\n",
    "<img src=\"image_ch03/80_1층.png\" alt=\"신경망과정\" width=\"30%\">  \n",
    "<img src=\"image_ch03/81_2층.png\" alt=\"신경망과정\" width=\"30%\">  \n",
    "<img src=\"image_ch03/82_3층.png\" alt=\"신경망과정\" width=\"30%\">  \n"
   ]
  },
  {
   "cell_type": "code",
   "execution_count": null,
   "metadata": {
    "id": "8IGeZXzTRXyK"
   },
   "outputs": [],
   "source": [
    "def init_network():  # 함수 만들기 (내가 원하는 가중치와 편향을 정해줌)\n",
    "    network = {}  # network라는 dictionary\n",
    "    network[\"W1\"] = np.array(\n",
    "        [[0.1, 0.3, 0.5], [0.2, 0.4, 0.6]]\n",
    "    )  # w1(가중치) 키를 가진 : (2,3) 2차원 넘파이 배열\n",
    "    network[\"b1\"] = np.array(\n",
    "        [0.1, 0.2, 0.3]\n",
    "    )  # b1(편향) 키를 가진 : (3,) 1차원 넘파이 배열\n",
    "    network[\"W2\"] = np.array(\n",
    "        [[0.1, 0.4], [0.2, 0.5], [0.3, 0.6]]\n",
    "    )  # w2(가중치) 키를 가진 : (3,2) 2차원 넘파이 배열\n",
    "    network[\"b2\"] = np.array([0.1, 0.2])  # b2(편향) 키를 가진 : (2,) 1차원 넘파이 배열\n",
    "    network[\"W3\"] = np.array(\n",
    "        [[0.1, 0.3], [0.2, 0.4]]\n",
    "    )  # w3(가중치) 키를 가진 : (2,2) 2차원 넘파이 배열\n",
    "    network[\"b3\"] = np.array([0.1, 0.2])  # b3(편향) 키를 가진 : (2,) 1차원 넘파이 배열\n",
    "\n",
    "    return network\n",
    "\n",
    "\n",
    "def forward(network, x):  # forward 함수 만들기 (매개변수로 netword와 x(입력값)를 가짐)\n",
    "    W1, W2, W3 = (\n",
    "        network[\"W1\"],\n",
    "        network[\"W2\"],\n",
    "        network[\"W3\"],\n",
    "    )  # network 인수는 dictionary이다. 필요한 값을 가져와서 unpacking\n",
    "    b1, b2, b3 = (\n",
    "        network[\"b1\"],\n",
    "        network[\"b2\"],\n",
    "        network[\"b3\"],\n",
    "    )  # network 인수는 dictionary이다. 필요한 값을 가져와서 unpacking\n",
    "\n",
    "    a1 = np.dot(x, W1) + b1  # 넘파이 행렬곱(입력값 * 가중치1) + 편향1\n",
    "    z1 = sigmoid(a1)  # 시그모이드 함수로 계산 후 현재층 계산 끝\n",
    "    # 다음 층으로 넘어가서\n",
    "    a2 = np.dot(z1, W2) + b2  # 넘파이 행렬곱(이전 층 결과값 * 가중치2) + 편향2\n",
    "    z2 = sigmoid(a2)  # 시그모이드 함수로 계산 후 현재층 계산 끝\n",
    "    # 다음 층으로 넘어가서\n",
    "    a3 = np.dot(z2, W3) + b3  # 넘파이 행렬곱(이전 층 결과값 * 가중치3) + 편향3\n",
    "\n",
    "    y = identity_function(a3)  # 항등함수에 a3값을 넣어 결과를 반환\n",
    "    # 출력층의 활성화함수는 시그마로 표시!\n",
    "\n",
    "    return y  # 최종 y 반환"
   ]
  },
  {
   "cell_type": "code",
   "execution_count": null,
   "metadata": {
    "colab": {
     "base_uri": "https://localhost:8080/"
    },
    "id": "26kOq-irRe4G",
    "outputId": "0ee71f4d-83bd-4e15-8824-99f688985692"
   },
   "outputs": [
    {
     "name": "stdout",
     "output_type": "stream",
     "text": [
      "[0.31682708 0.69627909]\n"
     ]
    }
   ],
   "source": [
    "# 위 정의한 함수를 실제 사용하기\n",
    "\n",
    "network = (\n",
    "    init_network()\n",
    ")  # 먼저 정해놓은 가중치와 편향을 dictionary에 넣어 반환하는 함수를 실행하여 network 변수에 넣습니다.\n",
    "x = np.array([1.0, 0.5])  # x라는 입력갑.. 즉 (2,) 1차원 넘파이 배열\n",
    "y = forward(\n",
    "    network, x\n",
    ")  # forward 함수에 x 인수와 network 인수를 넣어 '입력층', '1층', '2층' (총 3층)까지 계산 될 수 있도록 합니다.\n",
    "\n",
    "# 🔥 forward 함수의 상세 계산 과정은 시간상 생략.. 다음에 복습할 때 직접 주석으로 적어보기\n",
    "\n",
    "print(y)  # [ 0.31682708 0.69627909]    # 결과값 출력"
   ]
  },
  {
   "cell_type": "markdown",
   "metadata": {
    "id": "jxG26pXURiwR"
   },
   "source": [
    "<br><br>\n",
    "\n",
    "---\n",
    "\n",
    "## 🟢 3.5 출력층 설계하기  "
   ]
  },
  {
   "cell_type": "markdown",
   "metadata": {
    "id": "WvDxm_PpRl7O"
   },
   "source": [
    "### 🟡 3.5.1. `항등 함수`와 `소프트맥스 함수` 구현하기  (page 91)  \n",
    "- 항등함수는 항상 같은 값이 그대로 나오는 것  "
   ]
  },
  {
   "cell_type": "markdown",
   "metadata": {},
   "source": [
    "- 소프트맥스 함수식  \n",
    "\n",
    "<img src=\"image_ch03/84_소프트맥스함수식.png\" alt=\"Softmax_변환\" width=\"60%\">  \n",
    "<img src=\"image_ch03/86_소프트맥스_함수_그림.png\" alt=\"Softmax_변환\" width=\"20%\"> \n",
    "    \n",
    "- 소프트맥스 과정  \n",
    "    - <img src=\"image_ch03/85_Softmax_변환.png\" alt=\"Softmax_변환\" width=\"50%\">  \n",
    "\n"
   ]
  },
  {
   "cell_type": "markdown",
   "metadata": {},
   "source": [
    "- 지수함수  "
   ]
  },
  {
   "cell_type": "code",
   "execution_count": null,
   "metadata": {
    "colab": {
     "base_uri": "https://localhost:8080/"
    },
    "id": "AKy7mBk7RrSl",
    "outputId": "a86ce357-b040-40ce-95c1-787544572e44"
   },
   "outputs": [
    {
     "name": "stdout",
     "output_type": "stream",
     "text": [
      "[ 1.34985881 18.17414537 54.59815003]\n"
     ]
    }
   ],
   "source": [
    "a = np.array([0.3, 2.9, 4.0])  # a 라는 (3,) 1차원 넘파이 배열\n",
    "\n",
    "exp_a = np.exp(a)  # a라는 1차원 넘파이 배열을 지수함수에 넣어 반환하고 exp_a에 넣음.\n",
    "# 🔥 지수 함수 (exponential function) (넘파이 내장함수)\n",
    "# 지수함수란,\n",
    "# 거듭제곱의 지수를 변수로 하고, 정의역을 실수 전체로 정의하는 초월함수이다. 로그 함수의 역함수이다.\n",
    "\n",
    "\n",
    "print(exp_a)"
   ]
  },
  {
   "cell_type": "code",
   "execution_count": null,
   "metadata": {
    "colab": {
     "base_uri": "https://localhost:8080/"
    },
    "id": "VnFwAheYR4Km",
    "outputId": "1cec9a33-ce04-43a6-bb38-c154fd1acf1b"
   },
   "outputs": [
    {
     "name": "stdout",
     "output_type": "stream",
     "text": [
      "74.1221542101633\n"
     ]
    }
   ],
   "source": [
    "sum_exp_a = np.sum(exp_a)\n",
    "# 지수 함수의 합 (exp_a(지수함수에서 반환된 결과)를 모두 더함)\n",
    "\n",
    "print(sum_exp_a)  # 더해진 값 출력 확인"
   ]
  },
  {
   "cell_type": "code",
   "execution_count": null,
   "metadata": {
    "colab": {
     "base_uri": "https://localhost:8080/"
    },
    "id": "s6kxcMPBSEN0",
    "outputId": "701b5f08-d2cf-43bb-d5b7-6550b7c17022"
   },
   "outputs": [
    {
     "name": "stdout",
     "output_type": "stream",
     "text": [
      "[0.01821127 0.24519181 0.73659691]\n"
     ]
    }
   ],
   "source": [
    "y = exp_a / sum_exp_a  # normalize(정규화)를 통해서 0~1사이의 값으로 바꿈\n",
    "print(y)  # 정규화된 값 출력 확인"
   ]
  },
  {
   "cell_type": "markdown",
   "metadata": {},
   "source": [
    "- `소프트맥스 함수`로 만들기  "
   ]
  },
  {
   "cell_type": "code",
   "execution_count": null,
   "metadata": {
    "id": "RH4ZX9X8SI33"
   },
   "outputs": [],
   "source": [
    "def softmax(a):\n",
    "    exp_a = np.exp(a)\n",
    "    #\n",
    "\n",
    "    sum_exp_a = np.sum(exp_a)\n",
    "    # 지수 함수의 합 (exp_a(지수함수에서 반환된 결과)를 모두 더함)\n",
    "\n",
    "    y = exp_a / sum_exp_a\n",
    "    # normalize(정규화)를 통해서 0~1사이의 값으로 바꿈\n",
    "\n",
    "    return y"
   ]
  },
  {
   "cell_type": "markdown",
   "metadata": {},
   "source": [
    "#### ❓ normalize(정규화) 설명  \n",
    "- 목적: 데이터의 크기를 0~1 사이로 맞추는 것  \n",
    "- 방법: 각 값 ÷ 전체 합 or (값 - 최소값) ÷ (최대값 - 최소값)  \n",
    "- 결과: 모든 값이 0과 1 사이  "
   ]
  },
  {
   "cell_type": "markdown",
   "metadata": {
    "id": "h876d_H-SOVe"
   },
   "source": [
    "<br>\n",
    "\n",
    "### 🟡 3.5.2. 소프트맥스 함수 구현 시 주의점  \n",
    "\n",
    "- Softmax Overflow 예시  "
   ]
  },
  {
   "cell_type": "code",
   "execution_count": null,
   "metadata": {
    "colab": {
     "base_uri": "https://localhost:8080/"
    },
    "id": "7hSS69tOSQ3V",
    "outputId": "937eee93-82f7-4def-eac6-d273b05da3f2"
   },
   "outputs": [
    {
     "name": "stderr",
     "output_type": "stream",
     "text": [
      "/tmp/ipykernel_12231/3427171853.py:2: RuntimeWarning: overflow encountered in exp\n",
      "  np.exp(a) / np.sum(np.exp(a))  # 소프트맥스 함수의 계산 (제대로 계산되지 않는다)\n",
      "/tmp/ipykernel_12231/3427171853.py:2: RuntimeWarning: invalid value encountered in divide\n",
      "  np.exp(a) / np.sum(np.exp(a))  # 소프트맥스 함수의 계산 (제대로 계산되지 않는다)\n"
     ]
    },
    {
     "data": {
      "text/plain": [
       "array([nan, nan, nan])"
      ]
     },
     "execution_count": 151,
     "metadata": {},
     "output_type": "execute_result"
    }
   ],
   "source": [
    "# Softmax Overflow 예시\n",
    "a = np.array([1010, 1000, 990])\n",
    "np.exp(a) / np.sum(np.exp(a))  # 소프트맥스 함수의 계산\n",
    "# 결과는 제대로 계산되지 않는다. => Overflow 발생"
   ]
  },
  {
   "cell_type": "code",
   "execution_count": null,
   "metadata": {
    "colab": {
     "base_uri": "https://localhost:8080/"
    },
    "id": "F9HFFj17Sm6E",
    "outputId": "9efc3ac5-bf55-4eb5-ec2c-489918c87826"
   },
   "outputs": [
    {
     "data": {
      "text/plain": [
       "array([  0, -10, -20])"
      ]
     },
     "execution_count": 152,
     "metadata": {},
     "output_type": "execute_result"
    }
   ],
   "source": [
    "# 배열의 값중에 가장 큰 값을 뺴주는 노멀라이즈를 해주는 작업.\n",
    "c = np.max(a)  \n",
    "a - c"
   ]
  },
  {
   "cell_type": "code",
   "execution_count": null,
   "metadata": {
    "colab": {
     "base_uri": "https://localhost:8080/"
    },
    "id": "foDlL5qWTSyD",
    "outputId": "a2a9cdfb-672e-4f08-9ccc-b0bd1cc0e37a"
   },
   "outputs": [
    {
     "data": {
      "text/plain": [
       "array([9.99954600e-01, 4.53978686e-05, 2.06106005e-09])"
      ]
     },
     "execution_count": 153,
     "metadata": {},
     "output_type": "execute_result"
    }
   ],
   "source": [
    "# 오버플로우 방지를 위해 노멀라이즈가 추가된 소프트맥스 계산.\n",
    "np.exp(a - c) / np.sum(np.exp(a - c))"
   ]
  },
  {
   "cell_type": "code",
   "execution_count": null,
   "metadata": {
    "id": "xingjeonTcSQ"
   },
   "outputs": [],
   "source": [
    "def softmax(a):\n",
    "    c = np.max(a)           # 먼저 a인수(넘파이 배열)에서 노멀라이즈를 해주기 위해서 배열 중 최댓값을 찾아서 C에 넣음.\n",
    "    exp_a = np.exp(a - c)   # 오버플로 대책 - 전체 a배열에서 각각 최댓값을 빼주고, 지수함수 적용.\n",
    "    sum_exp_a = np.sum(exp_a)   # 그리고 모든 값을 더해준다.\n",
    "    y = exp_a / sum_exp_a       # 마지막으로 exp_a / sum_exp_a 나누기 계산을 한다.\n",
    "\n",
    "    return y    # 최종 y값 반환"
   ]
  },
  {
   "cell_type": "markdown",
   "metadata": {
    "id": "7X20IqAwTfIs"
   },
   "source": [
    "<br>\n",
    "\n",
    "### 🟡 3.5.3. 소프트맥스 함수의 특징  "
   ]
  },
  {
   "cell_type": "code",
   "execution_count": null,
   "metadata": {
    "colab": {
     "base_uri": "https://localhost:8080/"
    },
    "id": "H7wX1frbTiIg",
    "outputId": "bfb18339-2d9b-44c6-b52f-d418e934c208"
   },
   "outputs": [
    {
     "name": "stdout",
     "output_type": "stream",
     "text": [
      "[0.01821127 0.24519181 0.73659691]\n"
     ]
    },
    {
     "data": {
      "text/plain": [
       "np.float64(1.0)"
      ]
     },
     "execution_count": 155,
     "metadata": {},
     "output_type": "execute_result"
    }
   ],
   "source": [
    "a = np.array([0.3, 2.9, 4.0])       # 넘파이 배열\n",
    "y = softmax(a)                      # a 배열을 소프트맥스 함수 적용\n",
    "\n",
    "print(y)                            # 소프트맥스 함수를 적용한 a 배열 출력 및 확인\n",
    "np.sum(y)                           # 특징 - 모두 더한 결과값의 합은 1이 된다."
   ]
  }
 ],
 "metadata": {
  "colab": {
   "provenance": [],
   "toc_visible": true
  },
  "kernelspec": {
   "display_name": ".venv",
   "language": "python",
   "name": "python3"
  },
  "language_info": {
   "codemirror_mode": {
    "name": "ipython",
    "version": 3
   },
   "file_extension": ".py",
   "mimetype": "text/x-python",
   "name": "python",
   "nbconvert_exporter": "python",
   "pygments_lexer": "ipython3",
   "version": "3.13.7"
  }
 },
 "nbformat": 4,
 "nbformat_minor": 0
}
