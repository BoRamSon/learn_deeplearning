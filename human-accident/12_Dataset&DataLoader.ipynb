{
  "cells": [
    {
      "cell_type": "code",
      "execution_count": null,
      "metadata": {
        "collapsed": false
      },
      "outputs": [],
      "source": [
        "# Google Colab에서 노트북을 실행하실 때에는 \n",
        "# https://tutorials.pytorch.kr/beginner/colab 를 참고하세요."
      ]
    },
    {
      "cell_type": "markdown",
      "metadata": {},
      "source": [
        "# 🟩 Dataset과 DataLoader  "
      ]
    },
    {
      "cell_type": "markdown",
      "metadata": {},
      "source": [
        "데이터 샘플을 처리하는 코드는 지저분(messy)하고 유지보수가 어려울 수 있습니다.  \n",
        "더 나은 가독성(readability)과 모듈성(modularity)을 위해 데이터셋 코드를 모델 학습 코드로부터 분리하는 것이 이상적입니다.  \n",
        "PyTorch는 ``torch.utils.data.DataLoader`` 와 ``torch.utils.data.Dataset`` 의 두 가지 데이터 기본 요소를 제공하여 미리 준비해둔(pre-loaded) 데이터셋 뿐만 아니라 가지고 있는 데이터를 사용할 수 있도록 합니다.  \n",
        "``Dataset`` 은 샘플과 정답(label)을 저장하고, ``DataLoader`` 는 ``Dataset`` 을 샘플에 쉽게 접근할 수 있도록 순회 가능한 객체(iterable)로 감쌉니다.  \n",
        "\n",
        "PyTorch의 도메인 특화 라이브러리들은 (FashionMNIST와 같은) 미리 준비해둔(pre-loaded) 다양한 데이터셋을 제공합니다.  \n",
        "데이터셋은 ``torch.utils.data.Dataset`` 의 하위 클래스로 개별 데이터를 특정하는 함수가 구현되어 있습니다.  \n",
        "이러한 데이터셋은 모델을 만들어보고(prototype) 성능을 측정(benchmark)하는데 사용할 수 있습니다.  \n",
        "\n",
        "여기에서 데이터셋들을 찾아볼 수 있습니다.  \n",
        "[이미지 데이터셋](https://pytorch.org/vision/stable/datasets.html), [텍스트 데이터셋](https://pytorch.org/text/stable/datasets.html) 및 [오디오 데이터셋](https://pytorch.org/audio/stable/datasets.html)  \n",
        "\n",
        "\n"
      ]
    },
    {
      "cell_type": "markdown",
      "metadata": {},
      "source": [
        "<br>\n",
        "\n",
        "## 🟢 데이터셋 불러오기 (다운로드 받기)  \n",
        "\n",
        "`TorchVision` 에서 [Fashion-MNIST](https://research.zalando.com/project/fashion_mnist/fashion_mnist/) 데이터셋을 불러오는 예제를 살펴보겠습니다.  \n",
        "\n",
        "Fashion-MNIST는 Zalando의 기사 이미지 데이터셋으로 60,000개의 학습 예제와 10,000개의 테스트 예제로 이루어져 있습니다.  \n",
        "각 예제는 흑백(grayscale)의 28x28 이미지와 10개 분류(class) 중 하나인 정답(label)으로 구성됩니다.  \n",
        "\n",
        "다음 매개변수들을 사용하여 [FashionMNIST 데이터셋](https://pytorch.org/vision/stable/datasets.html#fashion-mnist) 을 불러옵니다:  \n",
        " - ``root`` 는 학습/테스트 데이터가 저장되는 경로입니다.  \n",
        " - ``train`` 은 학습용 또는 테스트용 데이터셋 여부를 지정합니다.  \n",
        " - ``download=True`` 는 ``root`` 에 데이터가 없는 경우 인터넷에서 다운로드합니다.  \n",
        "    - train-images-idx3-ubyte.gz → 학습용 이미지 60,000장 (압축 파일)  \n",
        "    - train-labels-idx1-ubyte.gz → 학습용 라벨 (옷 종류: 0~9)  \n",
        "    - t10k-images-idx3-ubyte.gz → 테스트용 이미지 10,000장  \n",
        "    - t10k-labels-idx1-ubyte.gz → 테스트용 라벨  \n",
        " - ``transform`` 과 ``target_transform`` 은 특징(feature)과 정답(label) 변형(transform)을 지정합니다.  \n",
        "\n"
      ]
    },
    {
      "cell_type": "code",
      "execution_count": null,
      "metadata": {
        "collapsed": false
      },
      "outputs": [],
      "source": [
        "import torch\n",
        "\n",
        "# PyTorch에서 데이터셋을 표현하는 기본 클래스 (직접 상속해서 커스텀 가능)\n",
        "from torch.utils.data import Dataset\n",
        "\n",
        "# torchvision이 제공하는 미리 준비된 데이터셋 모음 (MNIST, CIFAR10, FashionMNIST 등)\n",
        "from torchvision import datasets\n",
        "\n",
        "# 이미지를 PyTorch에서 쓰기 좋은 Tensor 타입으로 변환해 주는 도구\n",
        "from torchvision.transforms import ToTensor \n",
        "\n",
        "import matplotlib.pyplot as plt\n",
        "\n",
        "\n",
        "training_data = datasets.FashionMNIST(\n",
        "    root=\"data\",            # root 는 학습/테스트 데이터가 저장되는 경로\n",
        "    train=True,             # train 은 학습용 또는 테스트용 데이터셋 여부를 지정\n",
        "    download=True,          # download=True 는 root 에 데이터가 없는 경우 인터넷에서 다운로드\n",
        "    transform=ToTensor(),   # \n",
        ")\n",
        "\n",
        "test_data = datasets.FashionMNIST(\n",
        "    root=\"data\",\n",
        "    train=False,\n",
        "    download=True,\n",
        "    transform=ToTensor()\n",
        ")\n",
        "\n",
        "# 현재 디렉토리 내 data 폴더에 다운로드 된 것을 확인\n",
        "# 각각 무엇을 의미하는지는 잘 모르겠음."
      ]
    },
    {
      "cell_type": "markdown",
      "metadata": {},
      "source": [
        "<br>\n",
        "\n",
        "## 🟢 데이터셋을 순회하고 시각화하기  \n",
        "\n",
        "- ``Dataset`` 에 리스트(list)처럼 직접 접근(index)할 수 있습니다: ``training_data[index]``.  \n",
        "- ``matplotlib`` 을 사용하여 학습 데이터의 일부를 시각화해보겠습니다.  \n",
        "\n"
      ]
    },
    {
      "cell_type": "code",
      "execution_count": 3,
      "metadata": {
        "collapsed": false
      },
      "outputs": [
        {
          "data": {
            "image/png": "[encoded data removed]",
            "text/plain": [
              "<Figure size 800x800 with 9 Axes>"
            ]
          },
          "metadata": {},
          "output_type": "display_data"
        }
      ],
      "source": [
        "# 0~9 숫자 라벨을 사람이 읽을 수 있는 문자열로 바꿔주는 딕셔너리\n",
        "labels_map = {\n",
        "    0: \"T-Shirt\", \n",
        "    1: \"Trouser\", \n",
        "    2: \"Pullover\", \n",
        "    3: \"Dress\", \n",
        "    4: \"Coat\", \n",
        "    5: \"Sandal\", \n",
        "    6: \"Shirt\", \n",
        "    7: \"Sneaker\", \n",
        "    8: \"Bag\", \n",
        "    9: \"Ankle Boot\", \n",
        "}  # dictionary\n",
        "\n",
        "# 시각화할 전체 그림(figure) 객체를 생성. figsize는 인치 단위(가로,세로).\n",
        "figure = plt.figure(figsize=(8, 8))  # (8,8)은 정사각형 그림을 만듬.\n",
        "\n",
        "# 3열 3행으로(3x3) 이미지를 배치할 것임\n",
        "cols, rows = 3, 3\n",
        "\n",
        "# subplot 인덱스는 1부터 시작( matplotlib의 add_subplot 규칙 )\n",
        "for i in range(1, cols * rows + 1):\n",
        "    # training_data의 전체 길이(len)를 넘지 않는 0 이상 정수 난수 하나를 뽑음.\n",
        "    # torch.randint(high, size=(1,))은 텐서([idx])를 반환하므로 .item()으로 파이썬 int로 변경\n",
        "    sample_idx = torch.randint(len(training_data), size=(1,)).item()\n",
        "\n",
        "    # Dataset의 __getitem__ 호출: (image, label) 튜플을 반환\n",
        "    # - image: transform=ToTensor()가 적용되어 있으므로 shape = [1, H, W] (채널, 높이, 너비)\n",
        "    # - label: 정수(0~9)\n",
        "    img, label = training_data[sample_idx]\n",
        "\n",
        "    # figure에 (rows x cols) 격자 중 i번째 위치에 서브플롯을 추가\n",
        "    figure.add_subplot(rows, cols, i)\n",
        "\n",
        "    # 해당 이미지의 라벨 번호(label)를 labels_map으로 사람이 읽을 수 있는 문자열로 변환하여 제목으로 표시\n",
        "    plt.title(labels_map[label])\n",
        "\n",
        "    # x, y 축 눈금 및 테두리 표시를 끔 (이미지 자체만 보이게)\n",
        "    plt.axis(\"off\")\n",
        "\n",
        "    # 이미지 그리기:\n",
        "    # - img는 [1, H, W] 이므로 .squeeze()로 채널 차원(1)을 제거 -> [H, W]\n",
        "    # - cmap=\"gray\"는 흑백(그레이스케일)로 표시하게 함\n",
        "    # 주의: 일부 matplotlib 버전에서는 tensor → numpy 변환이 필요할 수 있음(img.squeeze().numpy()).\n",
        "    plt.imshow(img.squeeze(), cmap=\"gray\")\n",
        "\n",
        "# 모든 서브플롯을 화면에 보여줌\n",
        "plt.show()"
      ]
    },
    {
      "cell_type": "markdown",
      "metadata": {},
      "source": [
        "<br>\n",
        "\n",
        "------------------------------------------------------------------------------------------\n",
        "\n",
        "\n"
      ]
    },
    {
      "cell_type": "markdown",
      "metadata": {},
      "source": [
        "\n",
        "## 🟢 파일에서 사용자 정의 데이터셋 만들기  \n",
        "\n",
        "사용자 정의 Dataset 클래스는 반드시 3개 함수를 구현해야 합니다: `__init__`, `__len__`, and `__getitem__`.  \n",
        "아래 구현을 살펴보면 FashionMNIST 이미지들은 ``img_dir`` 디렉토리에 저장되고, 정답은 ``annotations_file`` csv 파일에  \n",
        "별도로 저장됩니다.  \n",
        "\n",
        "다음 장에서 각 함수들에서 일어나는 일들을 자세히 살펴보겠습니다.  \n",
        "\n"
      ]
    },
    {
      "cell_type": "code",
      "execution_count": null,
      "metadata": {
        "collapsed": false
      },
      "outputs": [],
      "source": [
        "import os\n",
        "import pandas as pd\n",
        "from torchvision.io import read_image\n",
        "\n",
        "class CustomImageDataset(Dataset):\n",
        "    def __init__(self, annotations_file, img_dir, transform=None, target_transform=None):\n",
        "        self.img_labels = pd.read_csv(annotations_file, names=['file_name', 'label'])\n",
        "        self.img_dir = img_dir\n",
        "        self.transform = transform\n",
        "        self.target_transform = target_transform\n",
        "\n",
        "    def __len__(self):\n",
        "        return len(self.img_labels)\n",
        "\n",
        "    def __getitem__(self, idx):\n",
        "        img_path = os.path.join(self.img_dir, self.img_labels.iloc[idx, 0])\n",
        "        image = read_image(img_path)\n",
        "        label = self.img_labels.iloc[idx, 1]\n",
        "        if self.transform:\n",
        "            image = self.transform(image)\n",
        "        if self.target_transform:\n",
        "            label = self.target_transform(label)\n",
        "        return image, label"
      ]
    },
    {
      "cell_type": "markdown",
      "metadata": {},
      "source": [
        "### ``__init__``  \n",
        "\n",
        "__init__ 함수는 Dataset 객체가 생성(instantiate)될 때 한 번만 실행됩니다.  \n",
        "여기서는 이미지와 주석 파일(annotation_file)이 포함된 디렉토리와 (다음 장에서 자세히 살펴볼) 두가지  \n",
        "변형(transform)을 초기화합니다.  \n",
        "\n",
        "labels.csv 파일은 다음과 같습니다: ::  \n",
        "\n",
        "    tshirt1.jpg, 0  \n",
        "    tshirt2.jpg, 0  \n",
        "    ......  \n",
        "    ankleboot999.jpg, 9  \n",
        "\n"
      ]
    },
    {
      "cell_type": "code",
      "execution_count": null,
      "metadata": {
        "collapsed": false
      },
      "outputs": [],
      "source": [
        "def __init__(self, annotations_file, img_dir, transform=None, target_transform=None):\n",
        "    self.img_labels = pd.read_csv(annotations_file)\n",
        "    self.img_dir = img_dir\n",
        "    self.transform = transform\n",
        "    self.target_transform = target_transform"
      ]
    },
    {
      "cell_type": "markdown",
      "metadata": {},
      "source": [
        "### ``__len__``  \n",
        "\n",
        "__len__ 함수는 데이터셋의 샘플 개수를 반환합니다.  \n",
        "\n",
        "예:  \n",
        "\n"
      ]
    },
    {
      "cell_type": "code",
      "execution_count": null,
      "metadata": {
        "collapsed": false
      },
      "outputs": [],
      "source": [
        "def __len__(self):\n",
        "    return len(self.img_labels)"
      ]
    },
    {
      "cell_type": "markdown",
      "metadata": {},
      "source": [
        "### ``__getitem__``  \n",
        "\n",
        "__getitem__ 함수는 주어진 인덱스 ``idx`` 에 해당하는 샘플을 데이터셋에서 불러오고 반환합니다.  \n",
        "인덱스를 기반으로, 디스크에서 이미지의 위치를 식별하고, ``read_image`` 를 사용하여 이미지를 텐서로 변환하고, ``self.img_labels`` 의 csv 데이터로부터  \n",
        "해당하는 정답(label)을 가져오고, (해당하는 경우) 변형(transform) 함수들을 호출한 뒤, 텐서 이미지와 라벨을 Python 사전(dict)형으로 반환합니다.  \n",
        "\n"
      ]
    },
    {
      "cell_type": "code",
      "execution_count": null,
      "metadata": {
        "collapsed": false
      },
      "outputs": [],
      "source": [
        "def __getitem__(self, idx):\n",
        "    img_path = os.path.join(self.img_dir, self.img_labels.iloc[idx, 0])\n",
        "    image = read_image(img_path)\n",
        "    label = self.img_labels.iloc[idx, 1]\n",
        "    if self.transform:\n",
        "        image = self.transform(image)\n",
        "    if self.target_transform:\n",
        "        label = self.target_transform(label)\n",
        "    sample = {\"image\": image, \"label\": label}\n",
        "    return sample"
      ]
    },
    {
      "cell_type": "markdown",
      "metadata": {},
      "source": [
        "<br>\n",
        "\n",
        "\n",
        "------------------------------------------------------------------------------------------\n",
        "\n",
        "\n"
      ]
    },
    {
      "cell_type": "markdown",
      "metadata": {},
      "source": [
        "## 🟢 DataLoader로 학습용 데이터 준비하기  \n",
        "\n",
        "``Dataset`` 은 데이터셋의 특징(feature)을 가져오고 하나의 샘플에 정답(label)을 지정하는 일을 한 번에 합니다.  \n",
        "모델을 학습할 때, 일반적으로 샘플들을 \"미니배치(minibatch)\"로 전달하고, 매 에폭(epoch)마다 데이터를 다시 섞어서 과적합(overfit)을 막고,  \n",
        "Python의 ``multiprocessing`` 을 사용하여 데이터 검색 속도를 높이려고 합니다.  \n",
        "\n",
        "``DataLoader`` 는 간단한 API로 이러한 복잡한 과정들을 추상화한 순회 가능한 객체(iterable)입니다.  \n",
        "\n"
      ]
    },
    {
      "cell_type": "code",
      "execution_count": null,
      "metadata": {
        "collapsed": false
      },
      "outputs": [],
      "source": [
        "from torch.utils.data import DataLoader\n",
        "\n",
        "train_dataloader = DataLoader(training_data, batch_size=64, shuffle=True)\n",
        "test_dataloader = DataLoader(test_data, batch_size=64, shuffle=True)"
      ]
    },
    {
      "cell_type": "markdown",
      "metadata": {},
      "source": [
        "<br>\n",
        "\n",
        "## 🟢 DataLoader를 통해 순회하기(iterate)  \n",
        "\n",
        "``DataLoader`` 에 데이터셋을 불러온 뒤에는 필요에 따라 데이터셋을 순회(iterate)할 수 있습니다.  \n",
        "아래의 각 순회(iteration)는 (각각 ``batch_size=64`` 의 특징(feature)과 정답(label)을 포함하는) ``train_features`` 와  \n",
        "``train_labels`` 의 묶음(batch)을 반환합니다. ``shuffle=True`` 로 지정했으므로, 모든 배치를 순회한 뒤 데이터가 섞입니다.  \n",
        "(데이터 불러오기 순서를 보다 세밀하게(finer-grained) 제어하려면 [Samplers](https://pytorch.org/docs/stable/data.html#data-loading-order-and-sampler)  \n",
        "를 살펴보세요.)  \n",
        "\n"
      ]
    },
    {
      "cell_type": "code",
      "execution_count": null,
      "metadata": {
        "collapsed": false
      },
      "outputs": [],
      "source": [
        "# 이미지와 정답(label)을 표시합니다.\n",
        "train_features, train_labels = next(iter(train_dataloader))\n",
        "print(f\"Feature batch shape: {train_features.size()}\")\n",
        "print(f\"Labels batch shape: {train_labels.size()}\")\n",
        "\n",
        "img = train_features[0].squeeze()\n",
        "label = train_labels[0]\n",
        "\n",
        "plt.imshow(img, cmap=\"gray\")\n",
        "plt.show()\n",
        "print(f\"Label: {label}\")"
      ]
    },
    {
      "cell_type": "markdown",
      "metadata": {},
      "source": [
        "------------------------------------------------------------------------------------------\n",
        "\n",
        "\n"
      ]
    },
    {
      "cell_type": "markdown",
      "metadata": {},
      "source": [
        "<br><br>\n",
        "\n",
        "## ➕ 더 읽어보기  \n",
        "- [torch.utils.data API](https://pytorch.org/docs/stable/data.html)  \n",
        "\n"
      ]
    }
  ],
  "metadata": {
    "kernelspec": {
      "display_name": "Python 3",
      "language": "python",
      "name": "python3"
    },
    "language_info": {
      "codemirror_mode": {
        "name": "ipython",
        "version": 3
      },
      "file_extension": ".py",
      "mimetype": "text/x-python",
      "name": "python",
      "nbconvert_exporter": "python",
      "pygments_lexer": "ipython3",
      "version": "3.10.14"
    }
  },
  "nbformat": 4,
  "nbformat_minor": 0
}
