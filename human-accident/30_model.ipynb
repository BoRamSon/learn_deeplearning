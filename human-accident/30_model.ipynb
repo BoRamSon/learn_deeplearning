{
 "cells": [
  {
   "cell_type": "markdown",
   "id": "bd692c70",
   "metadata": {},
   "source": [
    "# 🟩 Model Selection & Design  \n",
    "\n",
    "### ❤️ 지금까지 해온 것 정리하기  \n",
    "1. 처음 목표를 정했다. = **산업안전**  \n",
    "\n",
    "2. 관련 데이터셋을 찾았다. = **스마트 제조 시설 안전 감시를 위한 데이터**  \n",
    "    - https://www.aihub.or.kr/aihubdata/data/view.do?pageIndex=1&currMenu=115&topMenu=100&srchOptnCnd=OPTNCND001&searchKeyword=%EC%8A%A4%EB%A7%88%ED%8A%B8%EC%A0%9C%EC%A1%B0&srchDetailCnd=DETAILCND001&srchOrder=ORDER001&srchPagePer=20&aihubDataSe=data&dataSetSn=71679  \n",
    "\n",
    "3. 데이터셋을 어떤 `모델`로 학습할 것인지 정했다. = **cnn-lstm**  \n",
    "    - https://github.com/pranoyr/cnn-lstm  \n",
    "\n",
    "4. 해당 모델이 학습할 수 있는 형태로 데이터셋을 **`전처리`** 해준다.  \n",
    "    - https://github.com/pranoyr/cnn-lstm/blob/master/dataset.py  \n",
    "\n",
    "5. 이제 모델을 활용해 학습을 해야한다!!!  "
   ]
  }
 ],
 "metadata": {
  "language_info": {
   "name": "python"
  }
 },
 "nbformat": 4,
 "nbformat_minor": 5
}
