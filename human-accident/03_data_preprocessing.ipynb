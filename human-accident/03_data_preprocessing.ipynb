{
 "cells": [
  {
   "cell_type": "markdown",
   "id": "2a4e0c29",
   "metadata": {},
   "source": [
    "# 🟩 데이터 전처리  \n",
    "\n",
    "- 모델 선택 (나는 이 모델을 사용하여 학습 및 구현을 할 것이다.)  \n",
    "    - cnn-lstm  \n",
    "        - https://github.com/pranoyr/cnn-lstm  \n",
    "        - Action (Video) Classification  \n",
    "\n",
    "- 해당 모델의 데이터셋이 도대체 어떻게 생긴 것인지 먼저 파악해야함.  \n",
    "    - https://github.com/pranoyr/cnn-lstm/blob/master/dataset.py  \n",
    "        - **`UCF101`**  \n",
    "            ```python\n",
    "            def get_training_set(opt, spatial_transform, temporal_transform,  \n",
    "                    target_transform):  \n",
    "                if opt.dataset == 'ucf101':  \n",
    "                    training_data = UCF101(  \n",
    "                        opt.video_path,  \n",
    "                        opt.annotation_path,  \n",
    "                        'training',  \n",
    "                        spatial_transform=spatial_transform,  \n",
    "                        temporal_transform=temporal_transform,  \n",
    "                        target_transform=target_transform)  \n",
    "\n",
    "                return training_data  \n",
    "            ```\n",
    "\n",
    "- UCF101은 어떻게 데이터셋을 구성하는지 알아보기 (이 데이터셋 형태에 맞춰야하기 때문)  \n",
    "    - https://www.kaggle.com/datasets/matthewjansen/ucf101-action-recognition  \n",
    "    - \n"
   ]
  },
  {
   "cell_type": "markdown",
   "id": "50f407b8",
   "metadata": {},
   "source": [
    "<br><br>\n",
    "\n",
    "---\n",
    "\n",
    "## 🟢 1. 계획 세우기  \n",
    "\n",
    "### 🟡 UCF101이라는게 무엇인가?  \n",
    "https://wikidocs.net/164441  \n",
    "\n",
    "\n",
    "\n",
    "\n",
    "### 🟡 UCF101기준으로 전처리해야한다.  \n",
    "- 조건  \n",
    "    - 먼저 video를 기준으로 하며 그에 따르는 lable(annotation???)  \n"
   ]
  },
  {
   "cell_type": "markdown",
   "id": "3f15d387",
   "metadata": {},
   "source": [
    "<br><br>\n",
    "\n",
    "---\n",
    "\n",
    "## 🟢 2. 실천  \n",
    "\n",
    "\n"
   ]
  },
  {
   "cell_type": "markdown",
   "id": "f0641b40",
   "metadata": {},
   "source": [
    "<br>\n",
    "\n",
    "### 🟡 2-1. 가져와서 저장을 합시다.  \n",
    "\n"
   ]
  },
  {
   "cell_type": "code",
   "execution_count": null,
   "id": "7ba1fc99",
   "metadata": {},
   "outputs": [],
   "source": [
    "data_path = \"./data/human-accident_bump_rgb_0001_cctv1_01.json\"\n",
    "\n",
    "windows_source_path = \"D:\\\\078.스마트 제조 시설 안전 감시를 위한 데이터\\\\3.개방데이터\\\\1.데이터\\\\Validation\\\\01.원천데이터\\\\VS\\\\human-accident\"\n",
    "windows_lableing_path = \"D:\\\\078.스마트 제조 시설 안전 감시를 위한 데이터\\\\3.개방데이터\\\\1.데이터\\\\Validation\\\\02.라벨링데이터\\\\VL\\\\human-accident\"\n",
    "# 반드시 마지막 최종 경로는 폴더가 아닌 파일이 되어야 한다. 그렇지 않으면 PermissionError가 발생한다."
   ]
  },
  {
   "cell_type": "code",
   "execution_count": 8,
   "id": "ed692163",
   "metadata": {},
   "outputs": [
    {
     "ename": "PermissionError",
     "evalue": "[Errno 13] Permission denied: 'D:\\\\078.스마트 제조 시설 안전 감시를 위한 데이터\\\\3.개방데이터\\\\1.데이터\\\\Validation\\\\01.원천데이터\\\\VS\\\\human-accident'",
     "output_type": "error",
     "traceback": [
      "\u001b[31m---------------------------------------------------------------------------\u001b[39m",
      "\u001b[31mPermissionError\u001b[39m                           Traceback (most recent call last)",
      "\u001b[36mCell\u001b[39m\u001b[36m \u001b[39m\u001b[32mIn[8]\u001b[39m\u001b[32m, line 6\u001b[39m\n\u001b[32m      3\u001b[39m data_class = [\u001b[33m'\u001b[39m\u001b[33mbump\u001b[39m\u001b[33m'\u001b[39m, \u001b[33m'\u001b[39m\u001b[33mfall-down\u001b[39m\u001b[33m'\u001b[39m, \u001b[33m'\u001b[39m\u001b[33mfall-off\u001b[39m\u001b[33m'\u001b[39m, \u001b[33m'\u001b[39m\u001b[33mhit\u001b[39m\u001b[33m'\u001b[39m, \u001b[33m'\u001b[39m\u001b[33mjam\u001b[39m\u001b[33m'\u001b[39m, \u001b[33m'\u001b[39m\u001b[33mno-accident\u001b[39m\u001b[33m'\u001b[39m]\n\u001b[32m      5\u001b[39m \u001b[38;5;66;03m# 원천데이터 (mp4 동영상) 처리하기\u001b[39;00m\n\u001b[32m----> \u001b[39m\u001b[32m6\u001b[39m \u001b[38;5;28;01mwith\u001b[39;00m \u001b[38;5;28;43mopen\u001b[39;49m\u001b[43m(\u001b[49m\u001b[43mwindows_source_path\u001b[49m\u001b[43m,\u001b[49m\u001b[43m \u001b[49m\u001b[33;43m\"\u001b[39;49m\u001b[33;43mr\u001b[39;49m\u001b[33;43m\"\u001b[39;49m\u001b[43m,\u001b[49m\u001b[43m \u001b[49m\u001b[43mencoding\u001b[49m\u001b[43m=\u001b[49m\u001b[33;43m\"\u001b[39;49m\u001b[33;43mutf-8-sig\u001b[39;49m\u001b[33;43m\"\u001b[39;49m\u001b[43m)\u001b[49m \u001b[38;5;28;01mas\u001b[39;00m f:\n\u001b[32m      7\u001b[39m         json_data = json.load(f)\n\u001b[32m      9\u001b[39m \u001b[38;5;28mprint\u001b[39m(json_data)\n",
      "\u001b[36mFile \u001b[39m\u001b[32mc:\\Users\\bb\\Desktop\\learn_deeplearning\\.venv\\Lib\\site-packages\\IPython\\core\\interactiveshell.py:343\u001b[39m, in \u001b[36m_modified_open\u001b[39m\u001b[34m(file, *args, **kwargs)\u001b[39m\n\u001b[32m    336\u001b[39m \u001b[38;5;28;01mif\u001b[39;00m file \u001b[38;5;129;01min\u001b[39;00m {\u001b[32m0\u001b[39m, \u001b[32m1\u001b[39m, \u001b[32m2\u001b[39m}:\n\u001b[32m    337\u001b[39m     \u001b[38;5;28;01mraise\u001b[39;00m \u001b[38;5;167;01mValueError\u001b[39;00m(\n\u001b[32m    338\u001b[39m         \u001b[33mf\u001b[39m\u001b[33m\"\u001b[39m\u001b[33mIPython won\u001b[39m\u001b[33m'\u001b[39m\u001b[33mt let you open fd=\u001b[39m\u001b[38;5;132;01m{\u001b[39;00mfile\u001b[38;5;132;01m}\u001b[39;00m\u001b[33m by default \u001b[39m\u001b[33m\"\u001b[39m\n\u001b[32m    339\u001b[39m         \u001b[33m\"\u001b[39m\u001b[33mas it is likely to crash IPython. If you know what you are doing, \u001b[39m\u001b[33m\"\u001b[39m\n\u001b[32m    340\u001b[39m         \u001b[33m\"\u001b[39m\u001b[33myou can use builtins\u001b[39m\u001b[33m'\u001b[39m\u001b[33m open.\u001b[39m\u001b[33m\"\u001b[39m\n\u001b[32m    341\u001b[39m     )\n\u001b[32m--> \u001b[39m\u001b[32m343\u001b[39m \u001b[38;5;28;01mreturn\u001b[39;00m \u001b[43mio_open\u001b[49m\u001b[43m(\u001b[49m\u001b[43mfile\u001b[49m\u001b[43m,\u001b[49m\u001b[43m \u001b[49m\u001b[43m*\u001b[49m\u001b[43margs\u001b[49m\u001b[43m,\u001b[49m\u001b[43m \u001b[49m\u001b[43m*\u001b[49m\u001b[43m*\u001b[49m\u001b[43mkwargs\u001b[49m\u001b[43m)\u001b[49m\n",
      "\u001b[31mPermissionError\u001b[39m: [Errno 13] Permission denied: 'D:\\\\078.스마트 제조 시설 안전 감시를 위한 데이터\\\\3.개방데이터\\\\1.데이터\\\\Validation\\\\01.원천데이터\\\\VS\\\\human-accident'"
     ]
    }
   ],
   "source": [
    "import json\n",
    "\n",
    "data_class = ['bump', 'fall-down', 'fall-off', 'hit', 'jam', 'no-accident']\n",
    "\n",
    "# 원천데이터 (mp4 동영상) 처리하기\n",
    "with open(windows_source_path, \"r\", encoding=\"utf-8-sig\") as f:\n",
    "        json_data = json.load(f)\n",
    "\n",
    "print(json_data)"
   ]
  },
  {
   "cell_type": "markdown",
   "id": "ced2091f",
   "metadata": {},
   "source": [
    "<br>\n",
    "\n",
    "### 🟡 1-.  "
   ]
  },
  {
   "cell_type": "markdown",
   "id": "f58b3e58",
   "metadata": {},
   "source": [
    "<br>\n",
    "\n",
    "### 🟡 1-.  "
   ]
  },
  {
   "cell_type": "markdown",
   "id": "b5e987b7",
   "metadata": {},
   "source": [
    "<br>\n",
    "\n",
    "### 🟡 1-.  "
   ]
  }
 ],
 "metadata": {
  "kernelspec": {
   "display_name": "learn-deeplearning",
   "language": "python",
   "name": "python3"
  },
  "language_info": {
   "codemirror_mode": {
    "name": "ipython",
    "version": 3
   },
   "file_extension": ".py",
   "mimetype": "text/x-python",
   "name": "python",
   "nbconvert_exporter": "python",
   "pygments_lexer": "ipython3",
   "version": "3.11.9"
  }
 },
 "nbformat": 4,
 "nbformat_minor": 5
}
